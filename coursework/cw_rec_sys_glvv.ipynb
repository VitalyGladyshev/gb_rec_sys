{
 "cells": [
  {
   "cell_type": "markdown",
   "metadata": {},
   "source": [
    "# Курсовик по предмету \"Рекомендательные системы\" Гладышев В.В.\n",
    "\n",
    "### EDA, фильтрация, feature engineering:\n",
    "\n",
    "https://github.com/VitalyGladyshev/gb_rec_sys/blob/main/coursework/cw_eda_glvv.ipynb\n",
    "\n",
    "### библиотека с функциями метрик:\n",
    "\n",
    "https://github.com/VitalyGladyshev/gb_rec_sys/blob/main/src/metrics.py\n",
    "\n",
    "### подготовка данных: \n",
    "\n",
    "https://github.com/VitalyGladyshev/gb_rec_sys/blob/main/src/utils.py\n",
    "\n",
    "### класс с моделями:\n",
    "\n",
    "https://github.com/VitalyGladyshev/gb_rec_sys/blob/main/src/recommenders.py"
   ]
  },
  {
   "cell_type": "code",
   "execution_count": 1,
   "metadata": {},
   "outputs": [],
   "source": [
    "import pandas as pd\n",
    "import numpy as np\n",
    "import matplotlib.pyplot as plt\n",
    "%matplotlib inline\n",
    "import random\n",
    "\n",
    "# Для работы с матрицами\n",
    "from scipy.sparse import csr_matrix\n",
    "\n",
    "# Матричная факторизация\n",
    "from implicit import als\n",
    "\n",
    "# Модель второго уровня\n",
    "from lightgbm import LGBMClassifier\n",
    "\n",
    "import os, sys\n",
    "module_path = os.path.abspath(os.path.join(os.pardir))\n",
    "if module_path not in sys.path:\n",
    "    sys.path.append(module_path)\n",
    "\n",
    "# Написанные функции\n",
    "from src.metrics import precision_at_k, recall_at_k\n",
    "from src.utils import prefilter_items\n",
    "from src.recommenders import MainRecommender"
   ]
  },
  {
   "cell_type": "code",
   "execution_count": 2,
   "metadata": {},
   "outputs": [
    {
     "data": {
      "text/html": [
       "<div>\n",
       "<style scoped>\n",
       "    .dataframe tbody tr th:only-of-type {\n",
       "        vertical-align: middle;\n",
       "    }\n",
       "\n",
       "    .dataframe tbody tr th {\n",
       "        vertical-align: top;\n",
       "    }\n",
       "\n",
       "    .dataframe thead th {\n",
       "        text-align: right;\n",
       "    }\n",
       "</style>\n",
       "<table border=\"1\" class=\"dataframe\">\n",
       "  <thead>\n",
       "    <tr style=\"text-align: right;\">\n",
       "      <th></th>\n",
       "      <th>user_id</th>\n",
       "      <th>basket_id</th>\n",
       "      <th>day</th>\n",
       "      <th>item_id</th>\n",
       "      <th>quantity</th>\n",
       "      <th>sales_value</th>\n",
       "      <th>store_id</th>\n",
       "      <th>retail_disc</th>\n",
       "      <th>trans_time</th>\n",
       "      <th>week_no</th>\n",
       "      <th>coupon_disc</th>\n",
       "      <th>coupon_match_disc</th>\n",
       "    </tr>\n",
       "  </thead>\n",
       "  <tbody>\n",
       "    <tr>\n",
       "      <th>0</th>\n",
       "      <td>2375</td>\n",
       "      <td>26984851472</td>\n",
       "      <td>1</td>\n",
       "      <td>1004906</td>\n",
       "      <td>1</td>\n",
       "      <td>1.39</td>\n",
       "      <td>364</td>\n",
       "      <td>-0.6</td>\n",
       "      <td>1631</td>\n",
       "      <td>1</td>\n",
       "      <td>0.0</td>\n",
       "      <td>0.0</td>\n",
       "    </tr>\n",
       "    <tr>\n",
       "      <th>1</th>\n",
       "      <td>2375</td>\n",
       "      <td>26984851472</td>\n",
       "      <td>1</td>\n",
       "      <td>1033142</td>\n",
       "      <td>1</td>\n",
       "      <td>0.82</td>\n",
       "      <td>364</td>\n",
       "      <td>0.0</td>\n",
       "      <td>1631</td>\n",
       "      <td>1</td>\n",
       "      <td>0.0</td>\n",
       "      <td>0.0</td>\n",
       "    </tr>\n",
       "  </tbody>\n",
       "</table>\n",
       "</div>"
      ],
      "text/plain": [
       "   user_id    basket_id  day  item_id  quantity  sales_value  store_id  \\\n",
       "0     2375  26984851472    1  1004906         1         1.39       364   \n",
       "1     2375  26984851472    1  1033142         1         0.82       364   \n",
       "\n",
       "   retail_disc  trans_time  week_no  coupon_disc  coupon_match_disc  \n",
       "0         -0.6        1631        1          0.0                0.0  \n",
       "1          0.0        1631        1          0.0                0.0  "
      ]
     },
     "execution_count": 2,
     "metadata": {},
     "output_type": "execute_result"
    }
   ],
   "source": [
    "data          = pd.read_csv(os.path.join(os.pardir, \"data\", \"data.csv\"))\n",
    "user_features = pd.read_csv(os.path.join(os.pardir, \"data\", \"user_features.csv\"))\n",
    "item_features = pd.read_csv(os.path.join(os.pardir, \"data\", \"item_features.csv\"))\n",
    "\n",
    "# схема обучения и валидации\n",
    "# -- давние покупки -- | -- 6 недель -- | -- 3 недель -- \n",
    "# подобрать размер 2-ого датасета (6 недель) --> learning curve (зависимость метрики recall@k от размера датасета)\n",
    "val_lvl_1_size_weeks = 6\n",
    "val_lvl_2_size_weeks = 3\n",
    "\n",
    "data_train_lvl_1 = data[data['week_no'] < data['week_no'].max() - (val_lvl_1_size_weeks + val_lvl_2_size_weeks)]\n",
    "data_val_lvl_1 = data[(data['week_no'] >= data['week_no'].max() - (val_lvl_1_size_weeks + val_lvl_2_size_weeks)) &\n",
    "                      (data['week_no'] < data['week_no'].max() - (val_lvl_2_size_weeks))]\n",
    "\n",
    "data_train_lvl_2 = data_val_lvl_1.copy()  # Для наглядности. Далее мы добавим изменения, и они будут отличаться\n",
    "data_val_lvl_2 = data[data['week_no'] >= data['week_no'].max() - val_lvl_2_size_weeks]\n",
    "\n",
    "data_train_lvl_1.head(2)"
   ]
  },
  {
   "cell_type": "code",
   "execution_count": 3,
   "metadata": {},
   "outputs": [
    {
     "name": "stdout",
     "output_type": "stream",
     "text": [
      "user_item_matrix\n",
      "user_feat\n",
      "item_feat\n"
     ]
    },
    {
     "name": "stderr",
     "output_type": "stream",
     "text": [
      "WARNING:root:Intel MKL BLAS detected. Its highly recommend to set the environment variable 'export MKL_NUM_THREADS=1' to disable its internal multithreading\n"
     ]
    },
    {
     "name": "stdout",
     "output_type": "stream",
     "text": [
      "ALS model\n",
      "ALS TF-IDF model\n",
      "ALS BM25 model\n",
      "LightFM model\n",
      "Own\n"
     ]
    }
   ],
   "source": [
    "recommender = MainRecommender(data_train_lvl_1, item_features, user_features)"
   ]
  },
  {
   "cell_type": "code",
   "execution_count": 26,
   "metadata": {},
   "outputs": [],
   "source": [
    "users_lvl_2_pred_als = pd.DataFrame(data_val_lvl_2['user_id'].unique())\n",
    "users_lvl_2_pred_als.columns = ['user_id']"
   ]
  },
  {
   "cell_type": "code",
   "execution_count": 27,
   "metadata": {},
   "outputs": [],
   "source": [
    "result_lvl_2 = data_val_lvl_2.groupby('user_id')['item_id'].unique().reset_index()\n",
    "result_lvl_2.columns=['user_id', 'actual']"
   ]
  },
  {
   "cell_type": "code",
   "execution_count": 28,
   "metadata": {},
   "outputs": [
    {
     "data": {
      "text/plain": [
       "[397896, 1426702, 5703832, 480014, 5668996]"
      ]
     },
     "execution_count": 28,
     "metadata": {},
     "output_type": "execute_result"
    }
   ],
   "source": [
    "popularity = data.groupby('item_id')['quantity'].sum().reset_index()\n",
    "popularity.rename(columns={'quantity': 'n_sold'}, inplace=True)\n",
    "item_list = popularity.sort_values('n_sold', ascending=False).head(6).item_id.tolist()\n",
    "item_list = item_list[1:6]\n",
    "item_list"
   ]
  },
  {
   "cell_type": "code",
   "execution_count": 24,
   "metadata": {},
   "outputs": [],
   "source": [
    "user_train_list = data_train_lvl_1[\"user_id\"].unique().tolist()"
   ]
  },
  {
   "cell_type": "code",
   "execution_count": 21,
   "metadata": {},
   "outputs": [],
   "source": [
    "def get_pred_als(recommender, user_train_list, item_list, x, num=5):\n",
    "    res = []\n",
    "    if x in user_train_list:\n",
    "        res.extend(recommender.get_als_recommendations(x, rec_num=num))\n",
    "    else:\n",
    "        res.extend(item_list)    # res.extend(random.choices(item_list, k=num))\n",
    "    return res"
   ]
  },
  {
   "cell_type": "code",
   "execution_count": 22,
   "metadata": {},
   "outputs": [],
   "source": [
    "def get_pred_own(recommender, user_train_list, item_list, x, num=5):\n",
    "    res = []\n",
    "    if x in user_train_list:\n",
    "        res.extend(recommender.get_own_recommendations(x, rec_num=num))\n",
    "    else:\n",
    "        res.extend(item_list)    # res.extend(random.choices(item_list, k=num))\n",
    "    return res"
   ]
  },
  {
   "cell_type": "code",
   "execution_count": 23,
   "metadata": {},
   "outputs": [],
   "source": [
    "def get_pred_similar_items(recommender, user_train_list, item_list, x, num=5):\n",
    "    res = []\n",
    "    if x in user_train_list:\n",
    "        res.extend(recommender.get_similar_items_recommendation(x, rec_num=num))\n",
    "    else:\n",
    "        res.extend(item_list)    # res.extend(random.choices(item_list, k=num))\n",
    "    return res"
   ]
  },
  {
   "cell_type": "code",
   "execution_count": 30,
   "metadata": {},
   "outputs": [],
   "source": [
    "k_n = 5\n",
    "users_lvl_2_pred_als['predictions'] = users_lvl_2_pred_als['user_id'].apply(\\\n",
    "                            lambda x: get_pred_als(recommender, user_train_list, item_list, x, num=5))\n",
    "    \n",
    "users_lvl_2_pred_als[\"prec\"] = users_lvl_2_pred_als['user_id'].apply(\\\n",
    "        lambda x: precision_at_k(users_lvl_2_pred_als.loc[users_lvl_2_pred_als[\"user_id\"] == x, \"predictions\"].values[0], \n",
    "                                 list(result_lvl_2.loc[result_lvl_2[\"user_id\"] == x, \"actual\"].values[0]), \n",
    "                                 k=k_n))\n",
    "\n",
    "users_lvl_2_pred_als[\"prec\"].mean()"
   ]
  },
  {
   "cell_type": "code",
   "execution_count": 31,
   "metadata": {},
   "outputs": [],
   "source": [
    "users_lvl_2_pred_als[\"rec\"] = users_lvl_2_pred_als['user_id'].apply(\\\n",
    "        lambda x: recall_at_k(users_lvl_2_pred_als.loc[users_lvl_2_pred_als[\"user_id\"] == x, \"predictions\"].values[0], \n",
    "                              list(result_lvl_2.loc[result_lvl_2[\"user_id\"] == x, \"actual\"].values[0]), \n",
    "                              k=k_n))\n",
    "\n",
    "users_lvl_2_pred_als[\"rec\"].mean()"
   ]
  },
  {
   "cell_type": "code",
   "execution_count": null,
   "metadata": {},
   "outputs": [],
   "source": []
  }
 ],
 "metadata": {
  "kernelspec": {
   "display_name": "Python 3",
   "language": "python",
   "name": "python3"
  },
  "language_info": {
   "codemirror_mode": {
    "name": "ipython",
    "version": 3
   },
   "file_extension": ".py",
   "mimetype": "text/x-python",
   "name": "python",
   "nbconvert_exporter": "python",
   "pygments_lexer": "ipython3",
   "version": "3.8.5"
  }
 },
 "nbformat": 4,
 "nbformat_minor": 4
}
