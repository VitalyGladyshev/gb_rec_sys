{
  "nbformat": 4,
  "nbformat_minor": 0,
  "metadata": {
    "kernelspec": {
      "display_name": "Python 3",
      "language": "python",
      "name": "python3"
    },
    "language_info": {
      "codemirror_mode": {
        "name": "ipython",
        "version": 3
      },
      "file_extension": ".py",
      "mimetype": "text/x-python",
      "name": "python",
      "nbconvert_exporter": "python",
      "pygments_lexer": "ipython3",
      "version": "3.8.5"
    },
    "colab": {
      "name": "cw_rec_sys_glvv.ipynb",
      "provenance": [],
      "collapsed_sections": [],
      "include_colab_link": true
    },
    "accelerator": "GPU"
  },
  "cells": [
    {
      "cell_type": "markdown",
      "metadata": {
        "id": "view-in-github",
        "colab_type": "text"
      },
      "source": [
        "<a href=\"https://colab.research.google.com/github/VitalyGladyshev/gb_rec_sys/blob/main/coursework/cw_rec_sys_glvv.ipynb\" target=\"_parent\"><img src=\"https://colab.research.google.com/assets/colab-badge.svg\" alt=\"Open In Colab\"/></a>"
      ]
    },
    {
      "cell_type": "markdown",
      "metadata": {
        "id": "duNEe95A0R7-"
      },
      "source": [
        "# Курсовик по предмету \"Рекомендательные системы\" Гладышев В.В.\n",
        "\n",
        "### EDA, фильтрация, feature engineering:\n",
        "\n",
        "https://github.com/VitalyGladyshev/gb_rec_sys/blob/main/coursework/cw_eda_glvv.ipynb\n",
        "\n",
        "### библиотека с функциями метрик:\n",
        "\n",
        "https://github.com/VitalyGladyshev/gb_rec_sys/blob/main/src/metrics.py\n",
        "\n",
        "### подготовка данных: \n",
        "\n",
        "https://github.com/VitalyGladyshev/gb_rec_sys/blob/main/src/utils.py\n",
        "\n",
        "### класс с моделями:\n",
        "\n",
        "https://github.com/VitalyGladyshev/gb_rec_sys/blob/main/src/recommenders.py"
      ]
    },
    {
      "cell_type": "code",
      "metadata": {
        "colab": {
          "base_uri": "https://localhost:8080/"
        },
        "id": "1kUQ-hAJ1nIM",
        "outputId": "dc796710-02a2-4290-dba4-25887f0d0f5b"
      },
      "source": [
        "pip install implicit"
      ],
      "execution_count": 1,
      "outputs": [
        {
          "output_type": "stream",
          "text": [
            "Collecting implicit\n",
            "\u001b[?25l  Downloading https://files.pythonhosted.org/packages/bc/07/c0121884722d16e2c5beeb815f6b84b41cbf22e738e4075f1475be2791bc/implicit-0.4.4.tar.gz (1.1MB)\n",
            "\u001b[K     |████████████████████████████████| 1.1MB 8.4MB/s \n",
            "\u001b[?25hRequirement already satisfied: numpy in /usr/local/lib/python3.6/dist-packages (from implicit) (1.19.5)\n",
            "Requirement already satisfied: scipy>=0.16 in /usr/local/lib/python3.6/dist-packages (from implicit) (1.4.1)\n",
            "Requirement already satisfied: tqdm>=4.27 in /usr/local/lib/python3.6/dist-packages (from implicit) (4.41.1)\n",
            "Building wheels for collected packages: implicit\n",
            "  Building wheel for implicit (setup.py) ... \u001b[?25l\u001b[?25hdone\n",
            "  Created wheel for implicit: filename=implicit-0.4.4-cp36-cp36m-linux_x86_64.whl size=3419492 sha256=ad0e08a37e12334e7104a6f739c11f9ca38dd3afcfb3cbc00924d78ba2445233\n",
            "  Stored in directory: /root/.cache/pip/wheels/bf/d4/ec/fd4f622fcbefb7521f149905295b2c26adecb23af38aa28217\n",
            "Successfully built implicit\n",
            "Installing collected packages: implicit\n",
            "Successfully installed implicit-0.4.4\n"
          ],
          "name": "stdout"
        }
      ]
    },
    {
      "cell_type": "code",
      "metadata": {
        "colab": {
          "base_uri": "https://localhost:8080/"
        },
        "id": "NS-0dYTr3Sv8",
        "outputId": "3457b785-cbc2-4ce4-9e97-5c7fe071376e"
      },
      "source": [
        "pip install lightfm"
      ],
      "execution_count": 2,
      "outputs": [
        {
          "output_type": "stream",
          "text": [
            "Collecting lightfm\n",
            "\u001b[?25l  Downloading https://files.pythonhosted.org/packages/5e/fe/8864d723daa8e5afc74080ce510c30f7ad52facf6a157d4b42dec83dfab4/lightfm-1.16.tar.gz (310kB)\n",
            "\r\u001b[K     |█                               | 10kB 25.3MB/s eta 0:00:01\r\u001b[K     |██▏                             | 20kB 16.1MB/s eta 0:00:01\r\u001b[K     |███▏                            | 30kB 13.4MB/s eta 0:00:01\r\u001b[K     |████▎                           | 40kB 12.2MB/s eta 0:00:01\r\u001b[K     |█████▎                          | 51kB 8.3MB/s eta 0:00:01\r\u001b[K     |██████▍                         | 61kB 8.7MB/s eta 0:00:01\r\u001b[K     |███████▍                        | 71kB 8.9MB/s eta 0:00:01\r\u001b[K     |████████▌                       | 81kB 9.9MB/s eta 0:00:01\r\u001b[K     |█████████▌                      | 92kB 8.8MB/s eta 0:00:01\r\u001b[K     |██████████▋                     | 102kB 8.0MB/s eta 0:00:01\r\u001b[K     |███████████▋                    | 112kB 8.0MB/s eta 0:00:01\r\u001b[K     |████████████▊                   | 122kB 8.0MB/s eta 0:00:01\r\u001b[K     |█████████████▊                  | 133kB 8.0MB/s eta 0:00:01\r\u001b[K     |██████████████▉                 | 143kB 8.0MB/s eta 0:00:01\r\u001b[K     |███████████████▉                | 153kB 8.0MB/s eta 0:00:01\r\u001b[K     |█████████████████               | 163kB 8.0MB/s eta 0:00:01\r\u001b[K     |██████████████████              | 174kB 8.0MB/s eta 0:00:01\r\u001b[K     |███████████████████             | 184kB 8.0MB/s eta 0:00:01\r\u001b[K     |████████████████████            | 194kB 8.0MB/s eta 0:00:01\r\u001b[K     |█████████████████████▏          | 204kB 8.0MB/s eta 0:00:01\r\u001b[K     |██████████████████████▏         | 215kB 8.0MB/s eta 0:00:01\r\u001b[K     |███████████████████████▎        | 225kB 8.0MB/s eta 0:00:01\r\u001b[K     |████████████████████████▎       | 235kB 8.0MB/s eta 0:00:01\r\u001b[K     |█████████████████████████▍      | 245kB 8.0MB/s eta 0:00:01\r\u001b[K     |██████████████████████████▍     | 256kB 8.0MB/s eta 0:00:01\r\u001b[K     |███████████████████████████▌    | 266kB 8.0MB/s eta 0:00:01\r\u001b[K     |████████████████████████████▌   | 276kB 8.0MB/s eta 0:00:01\r\u001b[K     |█████████████████████████████▋  | 286kB 8.0MB/s eta 0:00:01\r\u001b[K     |██████████████████████████████▋ | 296kB 8.0MB/s eta 0:00:01\r\u001b[K     |███████████████████████████████▊| 307kB 8.0MB/s eta 0:00:01\r\u001b[K     |████████████████████████████████| 317kB 8.0MB/s \n",
            "\u001b[?25hRequirement already satisfied: numpy in /usr/local/lib/python3.6/dist-packages (from lightfm) (1.19.5)\n",
            "Requirement already satisfied: scipy>=0.17.0 in /usr/local/lib/python3.6/dist-packages (from lightfm) (1.4.1)\n",
            "Requirement already satisfied: requests in /usr/local/lib/python3.6/dist-packages (from lightfm) (2.23.0)\n",
            "Requirement already satisfied: scikit-learn in /usr/local/lib/python3.6/dist-packages (from lightfm) (0.22.2.post1)\n",
            "Requirement already satisfied: chardet<4,>=3.0.2 in /usr/local/lib/python3.6/dist-packages (from requests->lightfm) (3.0.4)\n",
            "Requirement already satisfied: urllib3!=1.25.0,!=1.25.1,<1.26,>=1.21.1 in /usr/local/lib/python3.6/dist-packages (from requests->lightfm) (1.24.3)\n",
            "Requirement already satisfied: idna<3,>=2.5 in /usr/local/lib/python3.6/dist-packages (from requests->lightfm) (2.10)\n",
            "Requirement already satisfied: certifi>=2017.4.17 in /usr/local/lib/python3.6/dist-packages (from requests->lightfm) (2020.12.5)\n",
            "Requirement already satisfied: joblib>=0.11 in /usr/local/lib/python3.6/dist-packages (from scikit-learn->lightfm) (1.0.0)\n",
            "Building wheels for collected packages: lightfm\n",
            "  Building wheel for lightfm (setup.py) ... \u001b[?25l\u001b[?25hdone\n",
            "  Created wheel for lightfm: filename=lightfm-1.16-cp36-cp36m-linux_x86_64.whl size=704268 sha256=3ff13bdabdaed741e2d346e1ae6723dbf4b2b12f0b52d1bdc56ac5ec595f9925\n",
            "  Stored in directory: /root/.cache/pip/wheels/c6/64/d4/673c7277f71ac4c5ad4835b94708c01b653ef2d3aa78ef20aa\n",
            "Successfully built lightfm\n",
            "Installing collected packages: lightfm\n",
            "Successfully installed lightfm-1.16\n"
          ],
          "name": "stdout"
        }
      ]
    },
    {
      "cell_type": "code",
      "metadata": {
        "id": "7tEl1lJO0R8R"
      },
      "source": [
        "import pandas as pd\n",
        "import numpy as np\n",
        "import matplotlib.pyplot as plt\n",
        "%matplotlib inline\n",
        "import random\n",
        "\n",
        "# Для работы с матрицами\n",
        "from scipy.sparse import csr_matrix\n",
        "\n",
        "# Матричная факторизация\n",
        "from implicit import als\n",
        "\n",
        "# Модель второго уровня\n",
        "from lightgbm import LGBMClassifier\n",
        "\n",
        "import os, sys"
      ],
      "execution_count": 3,
      "outputs": []
    },
    {
      "cell_type": "code",
      "metadata": {
        "colab": {
          "base_uri": "https://localhost:8080/"
        },
        "id": "ZWAw-qW20Ts4",
        "outputId": "88398db1-1265-4e91-9c6c-d1910c1e67c8"
      },
      "source": [
        "from google.colab import drive\n",
        "drive.mount('/content/gdrive')"
      ],
      "execution_count": 4,
      "outputs": [
        {
          "output_type": "stream",
          "text": [
            "Mounted at /content/gdrive\n"
          ],
          "name": "stdout"
        }
      ]
    },
    {
      "cell_type": "code",
      "metadata": {
        "id": "rN_WXrvO2JSe"
      },
      "source": [
        "path_to_src = '/content/gdrive/My Drive/Colab Notebooks/GB Rec Sys/src/'"
      ],
      "execution_count": 39,
      "outputs": []
    },
    {
      "cell_type": "code",
      "metadata": {
        "id": "vxc3J7sZ2n9l"
      },
      "source": [
        "if path_to_src not in sys.path:\n",
        "    sys.path.append(path_to_src)\n",
        "\n",
        "# Написанные функции\n",
        "from metrics import precision_at_k, recall_at_k\n",
        "from utils import prefilter_items\n",
        "from recommenders import MainRecommender"
      ],
      "execution_count": 40,
      "outputs": []
    },
    {
      "cell_type": "code",
      "metadata": {
        "id": "uhcT5SNq0rhZ"
      },
      "source": [
        "path_to_files = '/content/gdrive/My Drive/Colab Notebooks/GB Rec Sys/data'"
      ],
      "execution_count": 41,
      "outputs": []
    },
    {
      "cell_type": "code",
      "metadata": {
        "id": "qY9vSH5L0jC1"
      },
      "source": [
        "data          = pd.read_csv(os.path.join(path_to_files, \"data.csv\"))\n",
        "user_features = pd.read_csv(os.path.join(path_to_files, \"user_features.csv\"))\n",
        "item_features = pd.read_csv(os.path.join(path_to_files, \"item_features.csv\"))"
      ],
      "execution_count": 42,
      "outputs": []
    },
    {
      "cell_type": "code",
      "metadata": {
        "colab": {
          "base_uri": "https://localhost:8080/",
          "height": 111
        },
        "id": "eTB2i5BP0R8U",
        "outputId": "cb4bcf7e-45e3-4d68-ab70-c30f50400e55"
      },
      "source": [
        "# схема обучения и валидации\n",
        "# -- давние покупки -- | -- 6 недель -- | -- 3 недель -- \n",
        "# подобрать размер 2-ого датасета (6 недель) --> learning curve (зависимость метрики recall@k от размера датасета)\n",
        "val_lvl_1_size_weeks = 6\n",
        "val_lvl_2_size_weeks = 3\n",
        "\n",
        "data_train_lvl_1 = data[data['week_no'] < data['week_no'].max() - (val_lvl_1_size_weeks + val_lvl_2_size_weeks)]\n",
        "data_val_lvl_1 = data[(data['week_no'] >= data['week_no'].max() - (val_lvl_1_size_weeks + val_lvl_2_size_weeks)) &\n",
        "                      (data['week_no'] < data['week_no'].max() - (val_lvl_2_size_weeks))]\n",
        "\n",
        "data_train_lvl_2 = data_val_lvl_1.copy()  # Для наглядности. Далее мы добавим изменения, и они будут отличаться\n",
        "data_val_lvl_2 = data[data['week_no'] >= data['week_no'].max() - val_lvl_2_size_weeks]\n",
        "\n",
        "data_train_lvl_1.head(2)"
      ],
      "execution_count": 43,
      "outputs": [
        {
          "output_type": "execute_result",
          "data": {
            "text/html": [
              "<div>\n",
              "<style scoped>\n",
              "    .dataframe tbody tr th:only-of-type {\n",
              "        vertical-align: middle;\n",
              "    }\n",
              "\n",
              "    .dataframe tbody tr th {\n",
              "        vertical-align: top;\n",
              "    }\n",
              "\n",
              "    .dataframe thead th {\n",
              "        text-align: right;\n",
              "    }\n",
              "</style>\n",
              "<table border=\"1\" class=\"dataframe\">\n",
              "  <thead>\n",
              "    <tr style=\"text-align: right;\">\n",
              "      <th></th>\n",
              "      <th>user_id</th>\n",
              "      <th>basket_id</th>\n",
              "      <th>day</th>\n",
              "      <th>item_id</th>\n",
              "      <th>quantity</th>\n",
              "      <th>sales_value</th>\n",
              "      <th>store_id</th>\n",
              "      <th>retail_disc</th>\n",
              "      <th>trans_time</th>\n",
              "      <th>week_no</th>\n",
              "      <th>coupon_disc</th>\n",
              "      <th>coupon_match_disc</th>\n",
              "    </tr>\n",
              "  </thead>\n",
              "  <tbody>\n",
              "    <tr>\n",
              "      <th>0</th>\n",
              "      <td>2375</td>\n",
              "      <td>26984851472</td>\n",
              "      <td>1</td>\n",
              "      <td>1004906</td>\n",
              "      <td>1</td>\n",
              "      <td>1.39</td>\n",
              "      <td>364</td>\n",
              "      <td>-0.6</td>\n",
              "      <td>1631</td>\n",
              "      <td>1</td>\n",
              "      <td>0.0</td>\n",
              "      <td>0.0</td>\n",
              "    </tr>\n",
              "    <tr>\n",
              "      <th>1</th>\n",
              "      <td>2375</td>\n",
              "      <td>26984851472</td>\n",
              "      <td>1</td>\n",
              "      <td>1033142</td>\n",
              "      <td>1</td>\n",
              "      <td>0.82</td>\n",
              "      <td>364</td>\n",
              "      <td>0.0</td>\n",
              "      <td>1631</td>\n",
              "      <td>1</td>\n",
              "      <td>0.0</td>\n",
              "      <td>0.0</td>\n",
              "    </tr>\n",
              "  </tbody>\n",
              "</table>\n",
              "</div>"
            ],
            "text/plain": [
              "   user_id    basket_id  day  ...  week_no  coupon_disc  coupon_match_disc\n",
              "0     2375  26984851472    1  ...        1          0.0                0.0\n",
              "1     2375  26984851472    1  ...        1          0.0                0.0\n",
              "\n",
              "[2 rows x 12 columns]"
            ]
          },
          "metadata": {
            "tags": []
          },
          "execution_count": 43
        }
      ]
    },
    {
      "cell_type": "code",
      "metadata": {
        "colab": {
          "base_uri": "https://localhost:8080/"
        },
        "id": "rM9CdgYP0R8X",
        "outputId": "ce7edaa9-fe61-419f-f044-c545e1005c00"
      },
      "source": [
        "recommender = MainRecommender(data_train_lvl_1, item_features, user_features)"
      ],
      "execution_count": 44,
      "outputs": [
        {
          "output_type": "stream",
          "text": [
            "user_item_matrix\n",
            "user_feat\n",
            "item_feat\n"
          ],
          "name": "stdout"
        },
        {
          "output_type": "stream",
          "text": [
            "WARNING:implicit:GPU training requires factor size to be a multiple of 32. Increasing factors from 50 to 64.\n"
          ],
          "name": "stderr"
        },
        {
          "output_type": "stream",
          "text": [
            "ALS model\n"
          ],
          "name": "stdout"
        },
        {
          "output_type": "stream",
          "text": [
            "WARNING:implicit:GPU training requires factor size to be a multiple of 32. Increasing factors from 50 to 64.\n"
          ],
          "name": "stderr"
        },
        {
          "output_type": "stream",
          "text": [
            "ALS TF-IDF model\n"
          ],
          "name": "stdout"
        },
        {
          "output_type": "stream",
          "text": [
            "WARNING:implicit:GPU training requires factor size to be a multiple of 32. Increasing factors from 50 to 64.\n"
          ],
          "name": "stderr"
        },
        {
          "output_type": "stream",
          "text": [
            "ALS BM25 model\n",
            "LightFM model\n",
            "Own\n"
          ],
          "name": "stdout"
        }
      ]
    },
    {
      "cell_type": "code",
      "metadata": {
        "id": "T4jAA4Cq0R8Y"
      },
      "source": [
        "users_lvl_2_pred_als = pd.DataFrame(data_val_lvl_2['user_id'].unique())\n",
        "users_lvl_2_pred_als.columns = ['user_id']"
      ],
      "execution_count": 63,
      "outputs": []
    },
    {
      "cell_type": "code",
      "metadata": {
        "id": "L6KaSHGt0R8Z"
      },
      "source": [
        "result_lvl_2 = data_val_lvl_2.groupby('user_id')['item_id'].unique().reset_index()\n",
        "result_lvl_2.columns=['user_id', 'actual']"
      ],
      "execution_count": 64,
      "outputs": []
    },
    {
      "cell_type": "code",
      "metadata": {
        "id": "nJCjKGnCWFPt"
      },
      "source": [
        "k_n = 5\n",
        "num = 200"
      ],
      "execution_count": 65,
      "outputs": []
    },
    {
      "cell_type": "code",
      "metadata": {
        "colab": {
          "base_uri": "https://localhost:8080/"
        },
        "id": "37jOPHqX0R8Z",
        "outputId": "8684f71d-08fb-495c-b20c-54c239112909"
      },
      "source": [
        "popularity = data.groupby('item_id')['quantity'].sum().reset_index()\n",
        "popularity.rename(columns={'quantity': 'n_sold'}, inplace=True)\n",
        "item_list = popularity.sort_values('n_sold', ascending=False).head(num+1).item_id.tolist()\n",
        "item_list = item_list[1:num+1]\n",
        "len(item_list)"
      ],
      "execution_count": 66,
      "outputs": [
        {
          "output_type": "execute_result",
          "data": {
            "text/plain": [
              "200"
            ]
          },
          "metadata": {
            "tags": []
          },
          "execution_count": 66
        }
      ]
    },
    {
      "cell_type": "code",
      "metadata": {
        "id": "j7m_fhMD0R8a"
      },
      "source": [
        "user_train_list = data_train_lvl_1[\"user_id\"].unique().tolist()"
      ],
      "execution_count": 67,
      "outputs": []
    },
    {
      "cell_type": "code",
      "metadata": {
        "id": "qHjmX-RS0R8b"
      },
      "source": [
        "def get_pred_als(recommender, user_train_list, item_list, x, num=5):\n",
        "    res = []\n",
        "    if x in user_train_list:\n",
        "        res.extend(recommender.get_als_recommendations(x, rec_num=num))\n",
        "    else:\n",
        "        res.extend(item_list)    # res.extend(random.choices(item_list, k=num))\n",
        "    return res"
      ],
      "execution_count": 68,
      "outputs": []
    },
    {
      "cell_type": "code",
      "metadata": {
        "id": "wuYFaPDOnc99"
      },
      "source": [
        "def get_pred_als_tfidf(recommender, user_train_list, item_list, x, num=5):\n",
        "    res = []\n",
        "    if x in user_train_list:\n",
        "        res.extend(recommender.get_als_tfidf_recommendations(x, rec_num=num))\n",
        "    else:\n",
        "        res.extend(item_list)    # res.extend(random.choices(item_list, k=num))\n",
        "    return res"
      ],
      "execution_count": 69,
      "outputs": []
    },
    {
      "cell_type": "code",
      "metadata": {
        "id": "1n57Ykxmnd0l"
      },
      "source": [
        "def get_pred_als_bm25(recommender, user_train_list, item_list, x, num=5):\n",
        "    res = []\n",
        "    if x in user_train_list:\n",
        "        res.extend(recommender.get_als_bm25_recommendations(x, rec_num=num))\n",
        "    else:\n",
        "        res.extend(item_list)    # res.extend(random.choices(item_list, k=num))\n",
        "    return res"
      ],
      "execution_count": 70,
      "outputs": []
    },
    {
      "cell_type": "code",
      "metadata": {
        "id": "VwQ8nHRp0R8c"
      },
      "source": [
        "def get_pred_own(recommender, user_train_list, item_list, x, num=5):\n",
        "    res = []\n",
        "    if x in user_train_list:\n",
        "        res.extend(recommender.get_own_recommendations(x, rec_num=num))\n",
        "    else:\n",
        "        res.extend(item_list)    # res.extend(random.choices(item_list, k=num))\n",
        "    return res"
      ],
      "execution_count": 71,
      "outputs": []
    },
    {
      "cell_type": "code",
      "metadata": {
        "id": "bsxSL-WY0R8c"
      },
      "source": [
        "def get_pred_similar_items(recommender, user_train_list, item_list, x, num=5):\n",
        "    res = []\n",
        "    if x in user_train_list:\n",
        "        res.extend(recommender.get_similar_items_recommendation(x, rec_num=num))\n",
        "    else:\n",
        "        res.extend(item_list)    # res.extend(random.choices(item_list, k=num))\n",
        "    return res"
      ],
      "execution_count": 72,
      "outputs": []
    },
    {
      "cell_type": "code",
      "metadata": {
        "colab": {
          "base_uri": "https://localhost:8080/"
        },
        "id": "vPb9YwNm0R8d",
        "outputId": "8ca7ccc2-1c5e-4d57-bacd-35e10bb94356"
      },
      "source": [
        "users_lvl_2_pred_als['predictions'] = users_lvl_2_pred_als['user_id'].apply(\\\n",
        "                            lambda x: get_pred_als(recommender, user_train_list, item_list, x, num=num))\n",
        "    \n",
        "users_lvl_2_pred_als[\"prec\"] = users_lvl_2_pred_als['user_id'].apply(\\\n",
        "        lambda x: precision_at_k(users_lvl_2_pred_als.loc[users_lvl_2_pred_als[\"user_id\"] == x, \"predictions\"].values[0], \n",
        "                                 list(result_lvl_2.loc[result_lvl_2[\"user_id\"] == x, \"actual\"].values[0]), \n",
        "                                 k=k_n))\n",
        "\n",
        "users_lvl_2_pred_als[\"prec\"].mean()"
      ],
      "execution_count": 73,
      "outputs": [
        {
          "output_type": "execute_result",
          "data": {
            "text/plain": [
              "0.1831537708129261"
            ]
          },
          "metadata": {
            "tags": []
          },
          "execution_count": 73
        }
      ]
    },
    {
      "cell_type": "code",
      "metadata": {
        "colab": {
          "base_uri": "https://localhost:8080/"
        },
        "id": "lYQpjaP10R8d",
        "outputId": "9ef3d7b0-33b7-4d21-ec89-58620b8a8fcf"
      },
      "source": [
        "users_lvl_2_pred_als[\"rec\"] = users_lvl_2_pred_als['user_id'].apply(\\\n",
        "        lambda x: recall_at_k(users_lvl_2_pred_als.loc[users_lvl_2_pred_als[\"user_id\"] == x, \"predictions\"].values[0], \n",
        "                              list(result_lvl_2.loc[result_lvl_2[\"user_id\"] == x, \"actual\"].values[0]), \n",
        "                              k=k_n))\n",
        "\n",
        "users_lvl_2_pred_als[\"rec\"].mean()"
      ],
      "execution_count": 74,
      "outputs": [
        {
          "output_type": "execute_result",
          "data": {
            "text/plain": [
              "0.03038223074316197"
            ]
          },
          "metadata": {
            "tags": []
          },
          "execution_count": 74
        }
      ]
    },
    {
      "cell_type": "code",
      "metadata": {
        "colab": {
          "base_uri": "https://localhost:8080/"
        },
        "id": "epIsPADV0R8e",
        "outputId": "9e9ebc66-0168-457c-9ea3-d10363233369"
      },
      "source": [
        "users_lvl_2_pred_als['predictions_tfidf'] = users_lvl_2_pred_als['user_id'].apply(\\\n",
        "                            lambda x: get_pred_als_tfidf(recommender, user_train_list, item_list, x, num=num))\n",
        "    \n",
        "users_lvl_2_pred_als[\"prec_tfidf\"] = users_lvl_2_pred_als['user_id'].apply(\\\n",
        "        lambda x: precision_at_k(users_lvl_2_pred_als.loc[users_lvl_2_pred_als[\"user_id\"] == x, \"predictions_tfidf\"].values[0], \n",
        "                                 list(result_lvl_2.loc[result_lvl_2[\"user_id\"] == x, \"actual\"].values[0]), \n",
        "                                 k=k_n))\n",
        "\n",
        "users_lvl_2_pred_als[\"prec_tfidf\"].mean()"
      ],
      "execution_count": 75,
      "outputs": [
        {
          "output_type": "execute_result",
          "data": {
            "text/plain": [
              "0.14466209598432772"
            ]
          },
          "metadata": {
            "tags": []
          },
          "execution_count": 75
        }
      ]
    },
    {
      "cell_type": "code",
      "metadata": {
        "colab": {
          "base_uri": "https://localhost:8080/"
        },
        "id": "xE5iknQAQe12",
        "outputId": "0b52498f-e7c6-466c-eefb-ea5561dd1d6c"
      },
      "source": [
        "users_lvl_2_pred_als[\"rec_tfidf\"] = users_lvl_2_pred_als['user_id'].apply(\\\n",
        "        lambda x: recall_at_k(users_lvl_2_pred_als.loc[users_lvl_2_pred_als[\"user_id\"] == x, \"predictions_tfidf\"].values[0], \n",
        "                              list(result_lvl_2.loc[result_lvl_2[\"user_id\"] == x, \"actual\"].values[0]), \n",
        "                              k=k_n))\n",
        "\n",
        "users_lvl_2_pred_als[\"rec_tfidf\"].mean()"
      ],
      "execution_count": 76,
      "outputs": [
        {
          "output_type": "execute_result",
          "data": {
            "text/plain": [
              "0.023503027007213566"
            ]
          },
          "metadata": {
            "tags": []
          },
          "execution_count": 76
        }
      ]
    },
    {
      "cell_type": "code",
      "metadata": {
        "colab": {
          "base_uri": "https://localhost:8080/"
        },
        "id": "YCExB6JEUsre",
        "outputId": "cace3ab7-022a-4b09-a3dc-54af041ea1ab"
      },
      "source": [
        "users_lvl_2_pred_als['predictions_bm25'] = users_lvl_2_pred_als['user_id'].apply(\\\n",
        "                            lambda x: get_pred_als_bm25(recommender, user_train_list, item_list, x, num=num))\n",
        "    \n",
        "users_lvl_2_pred_als[\"prec_bm25\"] = users_lvl_2_pred_als['user_id'].apply(\\\n",
        "        lambda x: precision_at_k(users_lvl_2_pred_als.loc[users_lvl_2_pred_als[\"user_id\"] == x, \"predictions_bm25\"].values[0], \n",
        "                                 list(result_lvl_2.loc[result_lvl_2[\"user_id\"] == x, \"actual\"].values[0]), \n",
        "                                 k=k_n))\n",
        "\n",
        "users_lvl_2_pred_als[\"prec_bm25\"].mean()"
      ],
      "execution_count": 77,
      "outputs": [
        {
          "output_type": "execute_result",
          "data": {
            "text/plain": [
              "0.22047012732614774"
            ]
          },
          "metadata": {
            "tags": []
          },
          "execution_count": 77
        }
      ]
    },
    {
      "cell_type": "code",
      "metadata": {
        "colab": {
          "base_uri": "https://localhost:8080/"
        },
        "id": "cA-qpkoSX_9L",
        "outputId": "11fd4a41-d27c-4689-bbb6-94e9e3883f3b"
      },
      "source": [
        "users_lvl_2_pred_als[\"rec_bm25\"] = users_lvl_2_pred_als['user_id'].apply(\\\n",
        "        lambda x: recall_at_k(users_lvl_2_pred_als.loc[users_lvl_2_pred_als[\"user_id\"] == x, \"predictions_bm25\"].values[0], \n",
        "                              list(result_lvl_2.loc[result_lvl_2[\"user_id\"] == x, \"actual\"].values[0]), \n",
        "                              k=k_n))\n",
        "\n",
        "users_lvl_2_pred_als[\"rec_bm25\"].mean()"
      ],
      "execution_count": 78,
      "outputs": [
        {
          "output_type": "execute_result",
          "data": {
            "text/plain": [
              "0.03110276563513014"
            ]
          },
          "metadata": {
            "tags": []
          },
          "execution_count": 78
        }
      ]
    },
    {
      "cell_type": "code",
      "metadata": {
        "colab": {
          "base_uri": "https://localhost:8080/",
          "height": 289
        },
        "id": "OsoHtTnhe6IY",
        "outputId": "80eaca23-ab25-41f5-e7c8-0e511ce1f885"
      },
      "source": [
        "users_lvl_2_pred_als.head()"
      ],
      "execution_count": 79,
      "outputs": [
        {
          "output_type": "execute_result",
          "data": {
            "text/html": [
              "<div>\n",
              "<style scoped>\n",
              "    .dataframe tbody tr th:only-of-type {\n",
              "        vertical-align: middle;\n",
              "    }\n",
              "\n",
              "    .dataframe tbody tr th {\n",
              "        vertical-align: top;\n",
              "    }\n",
              "\n",
              "    .dataframe thead th {\n",
              "        text-align: right;\n",
              "    }\n",
              "</style>\n",
              "<table border=\"1\" class=\"dataframe\">\n",
              "  <thead>\n",
              "    <tr style=\"text-align: right;\">\n",
              "      <th></th>\n",
              "      <th>user_id</th>\n",
              "      <th>predictions</th>\n",
              "      <th>prec</th>\n",
              "      <th>rec</th>\n",
              "      <th>predictions_tfidf</th>\n",
              "      <th>prec_tfidf</th>\n",
              "      <th>rec_tfidf</th>\n",
              "      <th>predictions_bm25</th>\n",
              "      <th>prec_bm25</th>\n",
              "      <th>rec_bm25</th>\n",
              "    </tr>\n",
              "  </thead>\n",
              "  <tbody>\n",
              "    <tr>\n",
              "      <th>0</th>\n",
              "      <td>338</td>\n",
              "      <td>[1026118, 995785, 1037863, 845208, 1133018, 11...</td>\n",
              "      <td>0.8</td>\n",
              "      <td>0.042105</td>\n",
              "      <td>[845208, 1037863, 1026118, 995785, 1041259, 11...</td>\n",
              "      <td>0.8</td>\n",
              "      <td>0.042105</td>\n",
              "      <td>[1026118, 845208, 1037863, 1082185, 995785, 83...</td>\n",
              "      <td>0.8</td>\n",
              "      <td>0.042105</td>\n",
              "    </tr>\n",
              "    <tr>\n",
              "      <th>1</th>\n",
              "      <td>2120</td>\n",
              "      <td>[1082185, 1029743, 995242, 981760, 1106523, 11...</td>\n",
              "      <td>0.0</td>\n",
              "      <td>0.000000</td>\n",
              "      <td>[1082185, 1029743, 995242, 981760, 1106523, 90...</td>\n",
              "      <td>0.0</td>\n",
              "      <td>0.000000</td>\n",
              "      <td>[1870702, 201704, 1313189, 43871, 1082185, 849...</td>\n",
              "      <td>0.0</td>\n",
              "      <td>0.000000</td>\n",
              "    </tr>\n",
              "    <tr>\n",
              "      <th>2</th>\n",
              "      <td>2324</td>\n",
              "      <td>[1082185, 5978656, 981760, 995242, 1029743, 99...</td>\n",
              "      <td>0.6</td>\n",
              "      <td>0.060000</td>\n",
              "      <td>[1082185, 1053690, 1118393, 981760, 1080414, 9...</td>\n",
              "      <td>0.2</td>\n",
              "      <td>0.020000</td>\n",
              "      <td>[1082185, 1127831, 961554, 860776, 981760, 986...</td>\n",
              "      <td>0.4</td>\n",
              "      <td>0.040000</td>\n",
              "    </tr>\n",
              "    <tr>\n",
              "      <th>3</th>\n",
              "      <td>514</td>\n",
              "      <td>[5590287, 5588666, 5584027, 5585635, 878996, 5...</td>\n",
              "      <td>0.6</td>\n",
              "      <td>0.061224</td>\n",
              "      <td>[5584027, 5590287, 5588666, 5585639, 5585727, ...</td>\n",
              "      <td>0.2</td>\n",
              "      <td>0.020408</td>\n",
              "      <td>[1082185, 5585735, 878996, 5584808, 5590287, 5...</td>\n",
              "      <td>0.6</td>\n",
              "      <td>0.061224</td>\n",
              "    </tr>\n",
              "    <tr>\n",
              "      <th>4</th>\n",
              "      <td>1762</td>\n",
              "      <td>[886703, 1136257, 1108168, 918335, 916381, 108...</td>\n",
              "      <td>0.2</td>\n",
              "      <td>0.010000</td>\n",
              "      <td>[874736, 893018, 866172, 5591170, 968687, 1071...</td>\n",
              "      <td>0.2</td>\n",
              "      <td>0.010000</td>\n",
              "      <td>[826249, 1098066, 883404, 1029743, 1071939, 85...</td>\n",
              "      <td>0.4</td>\n",
              "      <td>0.020000</td>\n",
              "    </tr>\n",
              "  </tbody>\n",
              "</table>\n",
              "</div>"
            ],
            "text/plain": [
              "   user_id  ...  rec_bm25\n",
              "0      338  ...  0.042105\n",
              "1     2120  ...  0.000000\n",
              "2     2324  ...  0.040000\n",
              "3      514  ...  0.061224\n",
              "4     1762  ...  0.020000\n",
              "\n",
              "[5 rows x 10 columns]"
            ]
          },
          "metadata": {
            "tags": []
          },
          "execution_count": 79
        }
      ]
    },
    {
      "cell_type": "markdown",
      "metadata": {
        "id": "A07eskRxdy-0"
      },
      "source": [
        "### Строим классификатор"
      ]
    },
    {
      "cell_type": "code",
      "metadata": {
        "id": "SMG6YcTy-bUJ"
      },
      "source": [
        "users_lvl_2 = pd.DataFrame(data_train_lvl_2['user_id'].unique())\n",
        "users_lvl_2.columns = ['user_id']\n",
        "\n",
        "users_lvl_2['candidates'] = users_lvl_2['user_id'].apply(lambda x: get_pred_als_bm25(recommender, user_train_list, item_list, x, num=num))"
      ],
      "execution_count": 88,
      "outputs": []
    },
    {
      "cell_type": "code",
      "metadata": {
        "colab": {
          "base_uri": "https://localhost:8080/",
          "height": 204
        },
        "id": "Ovo12ZTx-be2",
        "outputId": "f05667fa-f9f7-4960-b8d2-fcb74a9ff166"
      },
      "source": [
        "users_lvl_2.head()"
      ],
      "execution_count": 89,
      "outputs": [
        {
          "output_type": "execute_result",
          "data": {
            "text/html": [
              "<div>\n",
              "<style scoped>\n",
              "    .dataframe tbody tr th:only-of-type {\n",
              "        vertical-align: middle;\n",
              "    }\n",
              "\n",
              "    .dataframe tbody tr th {\n",
              "        vertical-align: top;\n",
              "    }\n",
              "\n",
              "    .dataframe thead th {\n",
              "        text-align: right;\n",
              "    }\n",
              "</style>\n",
              "<table border=\"1\" class=\"dataframe\">\n",
              "  <thead>\n",
              "    <tr style=\"text-align: right;\">\n",
              "      <th></th>\n",
              "      <th>user_id</th>\n",
              "      <th>candidates</th>\n",
              "    </tr>\n",
              "  </thead>\n",
              "  <tbody>\n",
              "    <tr>\n",
              "      <th>0</th>\n",
              "      <td>2070</td>\n",
              "      <td>[1082185, 1080414, 1085604, 1055863, 839147, 8...</td>\n",
              "    </tr>\n",
              "    <tr>\n",
              "      <th>1</th>\n",
              "      <td>2021</td>\n",
              "      <td>[981760, 951590, 1133018, 845208, 1098066, 896...</td>\n",
              "    </tr>\n",
              "    <tr>\n",
              "      <th>2</th>\n",
              "      <td>1753</td>\n",
              "      <td>[1080414, 879755, 1085604, 1051069, 1055863, 9...</td>\n",
              "    </tr>\n",
              "    <tr>\n",
              "      <th>3</th>\n",
              "      <td>2120</td>\n",
              "      <td>[1870702, 201704, 1313189, 43871, 1082185, 849...</td>\n",
              "    </tr>\n",
              "    <tr>\n",
              "      <th>4</th>\n",
              "      <td>1346</td>\n",
              "      <td>[1082185, 1870702, 1127831, 1313189, 201704, 8...</td>\n",
              "    </tr>\n",
              "  </tbody>\n",
              "</table>\n",
              "</div>"
            ],
            "text/plain": [
              "   user_id                                         candidates\n",
              "0     2070  [1082185, 1080414, 1085604, 1055863, 839147, 8...\n",
              "1     2021  [981760, 951590, 1133018, 845208, 1098066, 896...\n",
              "2     1753  [1080414, 879755, 1085604, 1051069, 1055863, 9...\n",
              "3     2120  [1870702, 201704, 1313189, 43871, 1082185, 849...\n",
              "4     1346  [1082185, 1870702, 1127831, 1313189, 201704, 8..."
            ]
          },
          "metadata": {
            "tags": []
          },
          "execution_count": 89
        }
      ]
    },
    {
      "cell_type": "code",
      "metadata": {
        "colab": {
          "base_uri": "https://localhost:8080/"
        },
        "id": "dEJfTo7N-bjQ",
        "outputId": "c9055365-6a9f-41e5-904c-cc187a74398b"
      },
      "source": [
        "users_lvl_2.info()"
      ],
      "execution_count": 91,
      "outputs": [
        {
          "output_type": "stream",
          "text": [
            "<class 'pandas.core.frame.DataFrame'>\n",
            "RangeIndex: 2154 entries, 0 to 2153\n",
            "Data columns (total 2 columns):\n",
            " #   Column      Non-Null Count  Dtype \n",
            "---  ------      --------------  ----- \n",
            " 0   user_id     2154 non-null   int64 \n",
            " 1   candidates  2154 non-null   object\n",
            "dtypes: int64(1), object(1)\n",
            "memory usage: 33.8+ KB\n"
          ],
          "name": "stdout"
        }
      ]
    },
    {
      "cell_type": "code",
      "metadata": {
        "id": "9z5RQcqV-bn6"
      },
      "source": [
        "df=pd.DataFrame({'user_id':users_lvl_2.user_id.values.repeat(len(users_lvl_2.candidates[0])),\n",
        "                 'item_id':np.concatenate(users_lvl_2.candidates.values)})"
      ],
      "execution_count": 92,
      "outputs": []
    },
    {
      "cell_type": "code",
      "metadata": {
        "id": "Jg7b9L9IecU6"
      },
      "source": [
        "targets_lvl_2 = data_train_lvl_2[['user_id', 'item_id']].copy()\n",
        "targets_lvl_2['target'] = 1  # тут только покупки \n",
        "\n",
        "targets_lvl_2 = df.merge(targets_lvl_2, on=['user_id', 'item_id'], how='left')\n",
        "\n",
        "targets_lvl_2['target'].fillna(0, inplace= True)"
      ],
      "execution_count": 95,
      "outputs": []
    },
    {
      "cell_type": "code",
      "metadata": {
        "colab": {
          "base_uri": "https://localhost:8080/"
        },
        "id": "M9jmp8_WecaG",
        "outputId": "f802adb1-8b72-4a99-fda8-4b0a9bbb148f"
      },
      "source": [
        "targets_lvl_2.shape"
      ],
      "execution_count": 96,
      "outputs": [
        {
          "output_type": "execute_result",
          "data": {
            "text/plain": [
              "(445214, 3)"
            ]
          },
          "metadata": {
            "tags": []
          },
          "execution_count": 96
        }
      ]
    },
    {
      "cell_type": "code",
      "metadata": {
        "colab": {
          "base_uri": "https://localhost:8080/",
          "height": 148
        },
        "id": "SUT5GG8uecfj",
        "outputId": "64d0b56a-ad45-4b9f-afac-a4abab6a47dc"
      },
      "source": [
        "targets_lvl_2 = targets_lvl_2.merge(item_features, on='item_id', how='left') #\n",
        "targets_lvl_2 = targets_lvl_2.merge(user_features, on='user_id', how='left') #\n",
        "\n",
        "targets_lvl_2.head(2)"
      ],
      "execution_count": 97,
      "outputs": [
        {
          "output_type": "execute_result",
          "data": {
            "text/html": [
              "<div>\n",
              "<style scoped>\n",
              "    .dataframe tbody tr th:only-of-type {\n",
              "        vertical-align: middle;\n",
              "    }\n",
              "\n",
              "    .dataframe tbody tr th {\n",
              "        vertical-align: top;\n",
              "    }\n",
              "\n",
              "    .dataframe thead th {\n",
              "        text-align: right;\n",
              "    }\n",
              "</style>\n",
              "<table border=\"1\" class=\"dataframe\">\n",
              "  <thead>\n",
              "    <tr style=\"text-align: right;\">\n",
              "      <th></th>\n",
              "      <th>user_id</th>\n",
              "      <th>item_id</th>\n",
              "      <th>target</th>\n",
              "      <th>manufacturer</th>\n",
              "      <th>department</th>\n",
              "      <th>brand</th>\n",
              "      <th>commodity_desc</th>\n",
              "      <th>sub_commodity_desc</th>\n",
              "      <th>curr_size_of_product</th>\n",
              "      <th>age_desc</th>\n",
              "      <th>marital_status_code</th>\n",
              "      <th>income_desc</th>\n",
              "      <th>homeowner_desc</th>\n",
              "      <th>hh_comp_desc</th>\n",
              "      <th>household_size_desc</th>\n",
              "      <th>kid_category_desc</th>\n",
              "      <th>bill_avg</th>\n",
              "      <th>week_last_bill</th>\n",
              "      <th>items_per_week</th>\n",
              "    </tr>\n",
              "  </thead>\n",
              "  <tbody>\n",
              "    <tr>\n",
              "      <th>0</th>\n",
              "      <td>2070</td>\n",
              "      <td>1082185</td>\n",
              "      <td>1.0</td>\n",
              "      <td>2</td>\n",
              "      <td>PRODUCE</td>\n",
              "      <td>National</td>\n",
              "      <td>TROPICAL FRUIT</td>\n",
              "      <td>BANANAS</td>\n",
              "      <td>40 LB</td>\n",
              "      <td>45-54</td>\n",
              "      <td>U</td>\n",
              "      <td>50-74K</td>\n",
              "      <td>Unknown</td>\n",
              "      <td>Unknown</td>\n",
              "      <td>1</td>\n",
              "      <td>None/Unknown</td>\n",
              "      <td>2.891039</td>\n",
              "      <td>95.0</td>\n",
              "      <td>29.814815</td>\n",
              "    </tr>\n",
              "    <tr>\n",
              "      <th>1</th>\n",
              "      <td>2070</td>\n",
              "      <td>1080414</td>\n",
              "      <td>1.0</td>\n",
              "      <td>693</td>\n",
              "      <td>DRUG GM</td>\n",
              "      <td>National</td>\n",
              "      <td>CANDY - CHECKLANE</td>\n",
              "      <td>CANDY BARS (SINGLES)(INCLUDING</td>\n",
              "      <td>1.6 OZ</td>\n",
              "      <td>45-54</td>\n",
              "      <td>U</td>\n",
              "      <td>50-74K</td>\n",
              "      <td>Unknown</td>\n",
              "      <td>Unknown</td>\n",
              "      <td>1</td>\n",
              "      <td>None/Unknown</td>\n",
              "      <td>2.891039</td>\n",
              "      <td>95.0</td>\n",
              "      <td>29.814815</td>\n",
              "    </tr>\n",
              "  </tbody>\n",
              "</table>\n",
              "</div>"
            ],
            "text/plain": [
              "   user_id  item_id  target  ...  bill_avg week_last_bill items_per_week\n",
              "0     2070  1082185     1.0  ...  2.891039           95.0      29.814815\n",
              "1     2070  1080414     1.0  ...  2.891039           95.0      29.814815\n",
              "\n",
              "[2 rows x 19 columns]"
            ]
          },
          "metadata": {
            "tags": []
          },
          "execution_count": 97
        }
      ]
    },
    {
      "cell_type": "code",
      "metadata": {
        "colab": {
          "base_uri": "https://localhost:8080/"
        },
        "id": "b_rnx16aecjW",
        "outputId": "ea34390f-cd8b-46a6-e506-f72a15f4e502"
      },
      "source": [
        "targets_lvl_2.shape"
      ],
      "execution_count": 98,
      "outputs": [
        {
          "output_type": "execute_result",
          "data": {
            "text/plain": [
              "(445214, 19)"
            ]
          },
          "metadata": {
            "tags": []
          },
          "execution_count": 98
        }
      ]
    },
    {
      "cell_type": "code",
      "metadata": {
        "id": "GFQQn3YpIFt8"
      },
      "source": [
        "targets_lvl_2.fillna(0, inplace=True)"
      ],
      "execution_count": 99,
      "outputs": []
    },
    {
      "cell_type": "code",
      "metadata": {
        "id": "fctm5nRSaDrQ"
      },
      "source": [
        "X_train = targets_lvl_2.drop('target', axis=1)\n",
        "y_train = targets_lvl_2[['target']]"
      ],
      "execution_count": 100,
      "outputs": []
    },
    {
      "cell_type": "code",
      "metadata": {
        "colab": {
          "base_uri": "https://localhost:8080/"
        },
        "id": "YEWE4R4yd5dJ",
        "outputId": "4099d12d-8ab9-4920-e482-1bbf889c5d21"
      },
      "source": [
        "cat_feats = X_train.columns[2:].tolist()\n",
        "X_train[cat_feats] = X_train[cat_feats].astype('category')\n",
        "\n",
        "cat_feats"
      ],
      "execution_count": 101,
      "outputs": [
        {
          "output_type": "execute_result",
          "data": {
            "text/plain": [
              "['manufacturer',\n",
              " 'department',\n",
              " 'brand',\n",
              " 'commodity_desc',\n",
              " 'sub_commodity_desc',\n",
              " 'curr_size_of_product',\n",
              " 'age_desc',\n",
              " 'marital_status_code',\n",
              " 'income_desc',\n",
              " 'homeowner_desc',\n",
              " 'hh_comp_desc',\n",
              " 'household_size_desc',\n",
              " 'kid_category_desc',\n",
              " 'bill_avg',\n",
              " 'week_last_bill',\n",
              " 'items_per_week']"
            ]
          },
          "metadata": {
            "tags": []
          },
          "execution_count": 101
        }
      ]
    },
    {
      "cell_type": "code",
      "metadata": {
        "id": "eg1mQOKpI88x"
      },
      "source": [
        "lgb = LGBMClassifier(objective='binary', \n",
        "                     n_estimators=1500,\n",
        "                     learning_rate=0.008,\n",
        "                     max_depth=7, \n",
        "                     verbose=1,\n",
        "                     categorical_column=cat_feats)\n",
        "\n",
        "hist = lgb.fit(X_train, y_train, \n",
        "               eval_set=[(X_train, y_train)],\n",
        "               eval_metric=['logloss'],\n",
        "               early_stopping_rounds=50,\n",
        "               verbose=0)\n",
        "\n",
        "train_preds = lgb.predict_proba(X_train)"
      ],
      "execution_count": 110,
      "outputs": []
    },
    {
      "cell_type": "code",
      "metadata": {
        "colab": {
          "base_uri": "https://localhost:8080/"
        },
        "id": "PhYBDirlJNmY",
        "outputId": "b6dda549-532e-4e3c-cc78-8e5a46edf2ea"
      },
      "source": [
        "hist.evals_result_['training']['binary_logloss'][-10:]"
      ],
      "execution_count": 111,
      "outputs": [
        {
          "output_type": "execute_result",
          "data": {
            "text/plain": [
              "[0.2394399530169738,\n",
              " 0.23941679094679655,\n",
              " 0.2394071469635213,\n",
              " 0.2393943837136871,\n",
              " 0.2393878287549422,\n",
              " 0.23937648547668872,\n",
              " 0.23936530068709705,\n",
              " 0.239353367046835,\n",
              " 0.2393454724012716,\n",
              " 0.23933981410888594]"
            ]
          },
          "metadata": {
            "tags": []
          },
          "execution_count": 111
        }
      ]
    },
    {
      "cell_type": "code",
      "metadata": {
        "colab": {
          "base_uri": "https://localhost:8080/",
          "height": 204
        },
        "id": "vzlQw_M_KEsg",
        "outputId": "63b1db3b-cd7f-4681-f92b-c2b048866197"
      },
      "source": [
        "classifer_prediction = X_train[['user_id', 'item_id']]\n",
        "classifer_prediction[\"pred\"] = train_preds[:, 1]\n",
        "classifer_prediction.tail()"
      ],
      "execution_count": 112,
      "outputs": [
        {
          "output_type": "execute_result",
          "data": {
            "text/html": [
              "<div>\n",
              "<style scoped>\n",
              "    .dataframe tbody tr th:only-of-type {\n",
              "        vertical-align: middle;\n",
              "    }\n",
              "\n",
              "    .dataframe tbody tr th {\n",
              "        vertical-align: top;\n",
              "    }\n",
              "\n",
              "    .dataframe thead th {\n",
              "        text-align: right;\n",
              "    }\n",
              "</style>\n",
              "<table border=\"1\" class=\"dataframe\">\n",
              "  <thead>\n",
              "    <tr style=\"text-align: right;\">\n",
              "      <th></th>\n",
              "      <th>user_id</th>\n",
              "      <th>item_id</th>\n",
              "      <th>pred</th>\n",
              "    </tr>\n",
              "  </thead>\n",
              "  <tbody>\n",
              "    <tr>\n",
              "      <th>445209</th>\n",
              "      <td>1745</td>\n",
              "      <td>1069348</td>\n",
              "      <td>0.006226</td>\n",
              "    </tr>\n",
              "    <tr>\n",
              "      <th>445210</th>\n",
              "      <td>1745</td>\n",
              "      <td>874563</td>\n",
              "      <td>0.003222</td>\n",
              "    </tr>\n",
              "    <tr>\n",
              "      <th>445211</th>\n",
              "      <td>1745</td>\n",
              "      <td>1008400</td>\n",
              "      <td>0.003324</td>\n",
              "    </tr>\n",
              "    <tr>\n",
              "      <th>445212</th>\n",
              "      <td>1745</td>\n",
              "      <td>1115335</td>\n",
              "      <td>0.006348</td>\n",
              "    </tr>\n",
              "    <tr>\n",
              "      <th>445213</th>\n",
              "      <td>1745</td>\n",
              "      <td>1124475</td>\n",
              "      <td>0.010186</td>\n",
              "    </tr>\n",
              "  </tbody>\n",
              "</table>\n",
              "</div>"
            ],
            "text/plain": [
              "        user_id  item_id      pred\n",
              "445209     1745  1069348  0.006226\n",
              "445210     1745   874563  0.003222\n",
              "445211     1745  1008400  0.003324\n",
              "445212     1745  1115335  0.006348\n",
              "445213     1745  1124475  0.010186"
            ]
          },
          "metadata": {
            "tags": []
          },
          "execution_count": 112
        }
      ]
    },
    {
      "cell_type": "code",
      "metadata": {
        "id": "w7iW9pIyKWrl"
      },
      "source": [
        ""
      ],
      "execution_count": null,
      "outputs": []
    }
  ]
}