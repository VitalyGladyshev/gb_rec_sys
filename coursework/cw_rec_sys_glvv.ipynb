{
 "cells": [
  {
   "cell_type": "markdown",
   "metadata": {},
   "source": [
    "# Курсовик по предмету \"Рекомендательные системы\" Гладышев В.В.\n",
    "\n",
    "### EDA, фильтрация, feature engineering:\n",
    "\n",
    "https://github.com/VitalyGladyshev/gb_rec_sys/blob/main/coursework/cw_eda_glvv.ipynb\n",
    "\n",
    "### библиотека с функциями метрик:\n",
    "\n",
    "https://github.com/VitalyGladyshev/gb_rec_sys/blob/main/src/metrics.py\n",
    "\n",
    "### подготовка данных: \n",
    "\n",
    "https://github.com/VitalyGladyshev/gb_rec_sys/blob/main/src/utils.py\n",
    "\n",
    "### класс с моделями:\n",
    "\n",
    "https://github.com/VitalyGladyshev/gb_rec_sys/blob/main/src/recommenders.py"
   ]
  },
  {
   "cell_type": "code",
   "execution_count": null,
   "metadata": {},
   "outputs": [],
   "source": []
  }
 ],
 "metadata": {
  "kernelspec": {
   "display_name": "Python 3",
   "language": "python",
   "name": "python3"
  },
  "language_info": {
   "codemirror_mode": {
    "name": "ipython",
    "version": 3
   },
   "file_extension": ".py",
   "mimetype": "text/x-python",
   "name": "python",
   "nbconvert_exporter": "python",
   "pygments_lexer": "ipython3",
   "version": "3.8.5"
  }
 },
 "nbformat": 4,
 "nbformat_minor": 4
}
