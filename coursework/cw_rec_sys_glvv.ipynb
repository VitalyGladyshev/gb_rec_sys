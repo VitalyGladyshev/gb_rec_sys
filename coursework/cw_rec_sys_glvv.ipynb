{
  "nbformat": 4,
  "nbformat_minor": 0,
  "metadata": {
    "kernelspec": {
      "display_name": "Python 3",
      "language": "python",
      "name": "python3"
    },
    "language_info": {
      "codemirror_mode": {
        "name": "ipython",
        "version": 3
      },
      "file_extension": ".py",
      "mimetype": "text/x-python",
      "name": "python",
      "nbconvert_exporter": "python",
      "pygments_lexer": "ipython3",
      "version": "3.8.5"
    },
    "colab": {
      "name": "cw_rec_sys_glvv.ipynb",
      "provenance": [],
      "collapsed_sections": [],
      "include_colab_link": true
    },
    "accelerator": "GPU"
  },
  "cells": [
    {
      "cell_type": "markdown",
      "metadata": {
        "id": "view-in-github",
        "colab_type": "text"
      },
      "source": [
        "<a href=\"https://colab.research.google.com/github/VitalyGladyshev/gb_rec_sys/blob/main/coursework/cw_rec_sys_glvv.ipynb\" target=\"_parent\"><img src=\"https://colab.research.google.com/assets/colab-badge.svg\" alt=\"Open In Colab\"/></a>"
      ]
    },
    {
      "cell_type": "markdown",
      "metadata": {
        "id": "duNEe95A0R7-"
      },
      "source": [
        "# Курсовик по предмету \"Рекомендательные системы\" Гладышев В.В.\n",
        "\n",
        "### EDA, фильтрация, feature engineering:\n",
        "\n",
        "https://github.com/VitalyGladyshev/gb_rec_sys/blob/main/coursework/cw_eda_glvv.ipynb\n",
        "\n",
        "### библиотека с функциями метрик:\n",
        "\n",
        "https://github.com/VitalyGladyshev/gb_rec_sys/blob/main/src/metrics.py\n",
        "\n",
        "### подготовка данных: \n",
        "\n",
        "https://github.com/VitalyGladyshev/gb_rec_sys/blob/main/src/utils.py\n",
        "\n",
        "### класс с моделями:\n",
        "\n",
        "https://github.com/VitalyGladyshev/gb_rec_sys/blob/main/src/recommenders.py"
      ]
    },
    {
      "cell_type": "code",
      "metadata": {
        "colab": {
          "base_uri": "https://localhost:8080/"
        },
        "id": "1kUQ-hAJ1nIM",
        "outputId": "17008b04-c923-4969-a627-a55cf24e156f"
      },
      "source": [
        "pip install implicit"
      ],
      "execution_count": 2,
      "outputs": [
        {
          "output_type": "stream",
          "text": [
            "Collecting implicit\n",
            "\u001b[?25l  Downloading https://files.pythonhosted.org/packages/bc/07/c0121884722d16e2c5beeb815f6b84b41cbf22e738e4075f1475be2791bc/implicit-0.4.4.tar.gz (1.1MB)\n",
            "\r\u001b[K     |▎                               | 10kB 21.5MB/s eta 0:00:01\r\u001b[K     |▋                               | 20kB 29.0MB/s eta 0:00:01\r\u001b[K     |▉                               | 30kB 22.1MB/s eta 0:00:01\r\u001b[K     |█▏                              | 40kB 20.3MB/s eta 0:00:01\r\u001b[K     |█▌                              | 51kB 19.6MB/s eta 0:00:01\r\u001b[K     |█▊                              | 61kB 15.8MB/s eta 0:00:01\r\u001b[K     |██                              | 71kB 15.5MB/s eta 0:00:01\r\u001b[K     |██▍                             | 81kB 14.8MB/s eta 0:00:01\r\u001b[K     |██▋                             | 92kB 14.8MB/s eta 0:00:01\r\u001b[K     |███                             | 102kB 15.3MB/s eta 0:00:01\r\u001b[K     |███▎                            | 112kB 15.3MB/s eta 0:00:01\r\u001b[K     |███▌                            | 122kB 15.3MB/s eta 0:00:01\r\u001b[K     |███▉                            | 133kB 15.3MB/s eta 0:00:01\r\u001b[K     |████▏                           | 143kB 15.3MB/s eta 0:00:01\r\u001b[K     |████▍                           | 153kB 15.3MB/s eta 0:00:01\r\u001b[K     |████▊                           | 163kB 15.3MB/s eta 0:00:01\r\u001b[K     |█████                           | 174kB 15.3MB/s eta 0:00:01\r\u001b[K     |█████▎                          | 184kB 15.3MB/s eta 0:00:01\r\u001b[K     |█████▋                          | 194kB 15.3MB/s eta 0:00:01\r\u001b[K     |██████                          | 204kB 15.3MB/s eta 0:00:01\r\u001b[K     |██████▏                         | 215kB 15.3MB/s eta 0:00:01\r\u001b[K     |██████▌                         | 225kB 15.3MB/s eta 0:00:01\r\u001b[K     |██████▉                         | 235kB 15.3MB/s eta 0:00:01\r\u001b[K     |███████                         | 245kB 15.3MB/s eta 0:00:01\r\u001b[K     |███████▍                        | 256kB 15.3MB/s eta 0:00:01\r\u001b[K     |███████▊                        | 266kB 15.3MB/s eta 0:00:01\r\u001b[K     |████████                        | 276kB 15.3MB/s eta 0:00:01\r\u001b[K     |████████▎                       | 286kB 15.3MB/s eta 0:00:01\r\u001b[K     |████████▋                       | 296kB 15.3MB/s eta 0:00:01\r\u001b[K     |████████▉                       | 307kB 15.3MB/s eta 0:00:01\r\u001b[K     |█████████▏                      | 317kB 15.3MB/s eta 0:00:01\r\u001b[K     |█████████▌                      | 327kB 15.3MB/s eta 0:00:01\r\u001b[K     |█████████▊                      | 337kB 15.3MB/s eta 0:00:01\r\u001b[K     |██████████                      | 348kB 15.3MB/s eta 0:00:01\r\u001b[K     |██████████▍                     | 358kB 15.3MB/s eta 0:00:01\r\u001b[K     |██████████▋                     | 368kB 15.3MB/s eta 0:00:01\r\u001b[K     |███████████                     | 378kB 15.3MB/s eta 0:00:01\r\u001b[K     |███████████▏                    | 389kB 15.3MB/s eta 0:00:01\r\u001b[K     |███████████▌                    | 399kB 15.3MB/s eta 0:00:01\r\u001b[K     |███████████▉                    | 409kB 15.3MB/s eta 0:00:01\r\u001b[K     |████████████                    | 419kB 15.3MB/s eta 0:00:01\r\u001b[K     |████████████▍                   | 430kB 15.3MB/s eta 0:00:01\r\u001b[K     |████████████▊                   | 440kB 15.3MB/s eta 0:00:01\r\u001b[K     |█████████████                   | 450kB 15.3MB/s eta 0:00:01\r\u001b[K     |█████████████▎                  | 460kB 15.3MB/s eta 0:00:01\r\u001b[K     |█████████████▋                  | 471kB 15.3MB/s eta 0:00:01\r\u001b[K     |█████████████▉                  | 481kB 15.3MB/s eta 0:00:01\r\u001b[K     |██████████████▏                 | 491kB 15.3MB/s eta 0:00:01\r\u001b[K     |██████████████▌                 | 501kB 15.3MB/s eta 0:00:01\r\u001b[K     |██████████████▊                 | 512kB 15.3MB/s eta 0:00:01\r\u001b[K     |███████████████                 | 522kB 15.3MB/s eta 0:00:01\r\u001b[K     |███████████████▍                | 532kB 15.3MB/s eta 0:00:01\r\u001b[K     |███████████████▋                | 542kB 15.3MB/s eta 0:00:01\r\u001b[K     |████████████████                | 552kB 15.3MB/s eta 0:00:01\r\u001b[K     |████████████████▎               | 563kB 15.3MB/s eta 0:00:01\r\u001b[K     |████████████████▌               | 573kB 15.3MB/s eta 0:00:01\r\u001b[K     |████████████████▉               | 583kB 15.3MB/s eta 0:00:01\r\u001b[K     |█████████████████▏              | 593kB 15.3MB/s eta 0:00:01\r\u001b[K     |█████████████████▍              | 604kB 15.3MB/s eta 0:00:01\r\u001b[K     |█████████████████▊              | 614kB 15.3MB/s eta 0:00:01\r\u001b[K     |██████████████████              | 624kB 15.3MB/s eta 0:00:01\r\u001b[K     |██████████████████▎             | 634kB 15.3MB/s eta 0:00:01\r\u001b[K     |██████████████████▋             | 645kB 15.3MB/s eta 0:00:01\r\u001b[K     |███████████████████             | 655kB 15.3MB/s eta 0:00:01\r\u001b[K     |███████████████████▏            | 665kB 15.3MB/s eta 0:00:01\r\u001b[K     |███████████████████▌            | 675kB 15.3MB/s eta 0:00:01\r\u001b[K     |███████████████████▉            | 686kB 15.3MB/s eta 0:00:01\r\u001b[K     |████████████████████            | 696kB 15.3MB/s eta 0:00:01\r\u001b[K     |████████████████████▍           | 706kB 15.3MB/s eta 0:00:01\r\u001b[K     |████████████████████▊           | 716kB 15.3MB/s eta 0:00:01\r\u001b[K     |█████████████████████           | 727kB 15.3MB/s eta 0:00:01\r\u001b[K     |█████████████████████▎          | 737kB 15.3MB/s eta 0:00:01\r\u001b[K     |█████████████████████▋          | 747kB 15.3MB/s eta 0:00:01\r\u001b[K     |█████████████████████▉          | 757kB 15.3MB/s eta 0:00:01\r\u001b[K     |██████████████████████▏         | 768kB 15.3MB/s eta 0:00:01\r\u001b[K     |██████████████████████▍         | 778kB 15.3MB/s eta 0:00:01\r\u001b[K     |██████████████████████▊         | 788kB 15.3MB/s eta 0:00:01\r\u001b[K     |███████████████████████         | 798kB 15.3MB/s eta 0:00:01\r\u001b[K     |███████████████████████▎        | 808kB 15.3MB/s eta 0:00:01\r\u001b[K     |███████████████████████▋        | 819kB 15.3MB/s eta 0:00:01\r\u001b[K     |████████████████████████        | 829kB 15.3MB/s eta 0:00:01\r\u001b[K     |████████████████████████▏       | 839kB 15.3MB/s eta 0:00:01\r\u001b[K     |████████████████████████▌       | 849kB 15.3MB/s eta 0:00:01\r\u001b[K     |████████████████████████▉       | 860kB 15.3MB/s eta 0:00:01\r\u001b[K     |█████████████████████████       | 870kB 15.3MB/s eta 0:00:01\r\u001b[K     |█████████████████████████▍      | 880kB 15.3MB/s eta 0:00:01\r\u001b[K     |█████████████████████████▊      | 890kB 15.3MB/s eta 0:00:01\r\u001b[K     |██████████████████████████      | 901kB 15.3MB/s eta 0:00:01\r\u001b[K     |██████████████████████████▎     | 911kB 15.3MB/s eta 0:00:01\r\u001b[K     |██████████████████████████▋     | 921kB 15.3MB/s eta 0:00:01\r\u001b[K     |██████████████████████████▉     | 931kB 15.3MB/s eta 0:00:01\r\u001b[K     |███████████████████████████▏    | 942kB 15.3MB/s eta 0:00:01\r\u001b[K     |███████████████████████████▌    | 952kB 15.3MB/s eta 0:00:01\r\u001b[K     |███████████████████████████▊    | 962kB 15.3MB/s eta 0:00:01\r\u001b[K     |████████████████████████████    | 972kB 15.3MB/s eta 0:00:01\r\u001b[K     |████████████████████████████▍   | 983kB 15.3MB/s eta 0:00:01\r\u001b[K     |████████████████████████████▋   | 993kB 15.3MB/s eta 0:00:01\r\u001b[K     |█████████████████████████████   | 1.0MB 15.3MB/s eta 0:00:01\r\u001b[K     |█████████████████████████████▎  | 1.0MB 15.3MB/s eta 0:00:01\r\u001b[K     |█████████████████████████████▌  | 1.0MB 15.3MB/s eta 0:00:01\r\u001b[K     |█████████████████████████████▉  | 1.0MB 15.3MB/s eta 0:00:01\r\u001b[K     |██████████████████████████████▏ | 1.0MB 15.3MB/s eta 0:00:01\r\u001b[K     |██████████████████████████████▍ | 1.1MB 15.3MB/s eta 0:00:01\r\u001b[K     |██████████████████████████████▊ | 1.1MB 15.3MB/s eta 0:00:01\r\u001b[K     |███████████████████████████████ | 1.1MB 15.3MB/s eta 0:00:01\r\u001b[K     |███████████████████████████████▎| 1.1MB 15.3MB/s eta 0:00:01\r\u001b[K     |███████████████████████████████▋| 1.1MB 15.3MB/s eta 0:00:01\r\u001b[K     |████████████████████████████████| 1.1MB 15.3MB/s eta 0:00:01\r\u001b[K     |████████████████████████████████| 1.1MB 15.3MB/s \n",
            "\u001b[?25hRequirement already satisfied: numpy in /usr/local/lib/python3.6/dist-packages (from implicit) (1.19.5)\n",
            "Requirement already satisfied: scipy>=0.16 in /usr/local/lib/python3.6/dist-packages (from implicit) (1.4.1)\n",
            "Requirement already satisfied: tqdm>=4.27 in /usr/local/lib/python3.6/dist-packages (from implicit) (4.41.1)\n",
            "Building wheels for collected packages: implicit\n",
            "  Building wheel for implicit (setup.py) ... \u001b[?25l\u001b[?25hdone\n",
            "  Created wheel for implicit: filename=implicit-0.4.4-cp36-cp36m-linux_x86_64.whl size=3419393 sha256=3aba024f18a0458f7d088b20accf3a0035f333e5006e3700741898650bab5817\n",
            "  Stored in directory: /root/.cache/pip/wheels/bf/d4/ec/fd4f622fcbefb7521f149905295b2c26adecb23af38aa28217\n",
            "Successfully built implicit\n",
            "Installing collected packages: implicit\n",
            "Successfully installed implicit-0.4.4\n"
          ],
          "name": "stdout"
        }
      ]
    },
    {
      "cell_type": "code",
      "metadata": {
        "colab": {
          "base_uri": "https://localhost:8080/"
        },
        "id": "NS-0dYTr3Sv8",
        "outputId": "d95f6f74-84ec-49cd-c482-b8c1d54ea91b"
      },
      "source": [
        "pip install lightfm"
      ],
      "execution_count": 3,
      "outputs": [
        {
          "output_type": "stream",
          "text": [
            "Collecting lightfm\n",
            "\u001b[?25l  Downloading https://files.pythonhosted.org/packages/5e/fe/8864d723daa8e5afc74080ce510c30f7ad52facf6a157d4b42dec83dfab4/lightfm-1.16.tar.gz (310kB)\n",
            "\r\u001b[K     |█                               | 10kB 26.6MB/s eta 0:00:01\r\u001b[K     |██▏                             | 20kB 31.8MB/s eta 0:00:01\r\u001b[K     |███▏                            | 30kB 23.1MB/s eta 0:00:01\r\u001b[K     |████▎                           | 40kB 21.0MB/s eta 0:00:01\r\u001b[K     |█████▎                          | 51kB 22.0MB/s eta 0:00:01\r\u001b[K     |██████▍                         | 61kB 16.1MB/s eta 0:00:01\r\u001b[K     |███████▍                        | 71kB 16.9MB/s eta 0:00:01\r\u001b[K     |████████▌                       | 81kB 17.2MB/s eta 0:00:01\r\u001b[K     |█████████▌                      | 92kB 15.5MB/s eta 0:00:01\r\u001b[K     |██████████▋                     | 102kB 16.7MB/s eta 0:00:01\r\u001b[K     |███████████▋                    | 112kB 16.7MB/s eta 0:00:01\r\u001b[K     |████████████▊                   | 122kB 16.7MB/s eta 0:00:01\r\u001b[K     |█████████████▊                  | 133kB 16.7MB/s eta 0:00:01\r\u001b[K     |██████████████▉                 | 143kB 16.7MB/s eta 0:00:01\r\u001b[K     |███████████████▉                | 153kB 16.7MB/s eta 0:00:01\r\u001b[K     |█████████████████               | 163kB 16.7MB/s eta 0:00:01\r\u001b[K     |██████████████████              | 174kB 16.7MB/s eta 0:00:01\r\u001b[K     |███████████████████             | 184kB 16.7MB/s eta 0:00:01\r\u001b[K     |████████████████████            | 194kB 16.7MB/s eta 0:00:01\r\u001b[K     |█████████████████████▏          | 204kB 16.7MB/s eta 0:00:01\r\u001b[K     |██████████████████████▏         | 215kB 16.7MB/s eta 0:00:01\r\u001b[K     |███████████████████████▎        | 225kB 16.7MB/s eta 0:00:01\r\u001b[K     |████████████████████████▎       | 235kB 16.7MB/s eta 0:00:01\r\u001b[K     |█████████████████████████▍      | 245kB 16.7MB/s eta 0:00:01\r\u001b[K     |██████████████████████████▍     | 256kB 16.7MB/s eta 0:00:01\r\u001b[K     |███████████████████████████▌    | 266kB 16.7MB/s eta 0:00:01\r\u001b[K     |████████████████████████████▌   | 276kB 16.7MB/s eta 0:00:01\r\u001b[K     |█████████████████████████████▋  | 286kB 16.7MB/s eta 0:00:01\r\u001b[K     |██████████████████████████████▋ | 296kB 16.7MB/s eta 0:00:01\r\u001b[K     |███████████████████████████████▊| 307kB 16.7MB/s eta 0:00:01\r\u001b[K     |████████████████████████████████| 317kB 16.7MB/s \n",
            "\u001b[?25hRequirement already satisfied: numpy in /usr/local/lib/python3.6/dist-packages (from lightfm) (1.19.5)\n",
            "Requirement already satisfied: scipy>=0.17.0 in /usr/local/lib/python3.6/dist-packages (from lightfm) (1.4.1)\n",
            "Requirement already satisfied: requests in /usr/local/lib/python3.6/dist-packages (from lightfm) (2.23.0)\n",
            "Requirement already satisfied: scikit-learn in /usr/local/lib/python3.6/dist-packages (from lightfm) (0.22.2.post1)\n",
            "Requirement already satisfied: idna<3,>=2.5 in /usr/local/lib/python3.6/dist-packages (from requests->lightfm) (2.10)\n",
            "Requirement already satisfied: chardet<4,>=3.0.2 in /usr/local/lib/python3.6/dist-packages (from requests->lightfm) (3.0.4)\n",
            "Requirement already satisfied: urllib3!=1.25.0,!=1.25.1,<1.26,>=1.21.1 in /usr/local/lib/python3.6/dist-packages (from requests->lightfm) (1.24.3)\n",
            "Requirement already satisfied: certifi>=2017.4.17 in /usr/local/lib/python3.6/dist-packages (from requests->lightfm) (2020.12.5)\n",
            "Requirement already satisfied: joblib>=0.11 in /usr/local/lib/python3.6/dist-packages (from scikit-learn->lightfm) (1.0.0)\n",
            "Building wheels for collected packages: lightfm\n",
            "  Building wheel for lightfm (setup.py) ... \u001b[?25l\u001b[?25hdone\n",
            "  Created wheel for lightfm: filename=lightfm-1.16-cp36-cp36m-linux_x86_64.whl size=704269 sha256=21830e58157f9a357165633e73ab410200057d070786318774107eee573eece6\n",
            "  Stored in directory: /root/.cache/pip/wheels/c6/64/d4/673c7277f71ac4c5ad4835b94708c01b653ef2d3aa78ef20aa\n",
            "Successfully built lightfm\n",
            "Installing collected packages: lightfm\n",
            "Successfully installed lightfm-1.16\n"
          ],
          "name": "stdout"
        }
      ]
    },
    {
      "cell_type": "code",
      "metadata": {
        "id": "7tEl1lJO0R8R"
      },
      "source": [
        "import pandas as pd\n",
        "import numpy as np\n",
        "import matplotlib.pyplot as plt\n",
        "%matplotlib inline\n",
        "import random\n",
        "\n",
        "# Для работы с матрицами\n",
        "from scipy.sparse import csr_matrix\n",
        "\n",
        "# Матричная факторизация\n",
        "from implicit import als\n",
        "\n",
        "# Модель второго уровня\n",
        "from lightgbm import LGBMClassifier\n",
        "\n",
        "import os, sys"
      ],
      "execution_count": 4,
      "outputs": []
    },
    {
      "cell_type": "code",
      "metadata": {
        "colab": {
          "base_uri": "https://localhost:8080/"
        },
        "id": "ZWAw-qW20Ts4",
        "outputId": "a963d431-5d57-49e2-b586-2ac0a77e163e"
      },
      "source": [
        "from google.colab import drive\n",
        "drive.mount('/content/gdrive')"
      ],
      "execution_count": 5,
      "outputs": [
        {
          "output_type": "stream",
          "text": [
            "Mounted at /content/gdrive\n"
          ],
          "name": "stdout"
        }
      ]
    },
    {
      "cell_type": "code",
      "metadata": {
        "id": "rN_WXrvO2JSe"
      },
      "source": [
        "path_to_src = '/content/gdrive/My Drive/Colab Notebooks/GB Rec Sys/src/'"
      ],
      "execution_count": 6,
      "outputs": []
    },
    {
      "cell_type": "code",
      "metadata": {
        "id": "vxc3J7sZ2n9l"
      },
      "source": [
        "if path_to_src not in sys.path:\n",
        "    sys.path.append(path_to_src)\n",
        "\n",
        "# Написанные функции\n",
        "from metrics import precision_at_k, recall_at_k\n",
        "from utils import prefilter_items\n",
        "from recommenders import MainRecommender"
      ],
      "execution_count": 7,
      "outputs": []
    },
    {
      "cell_type": "code",
      "metadata": {
        "id": "uhcT5SNq0rhZ"
      },
      "source": [
        "path_to_files = '/content/gdrive/My Drive/Colab Notebooks/GB Rec Sys/data'"
      ],
      "execution_count": 8,
      "outputs": []
    },
    {
      "cell_type": "code",
      "metadata": {
        "id": "qY9vSH5L0jC1"
      },
      "source": [
        "data          = pd.read_csv(os.path.join(path_to_files, \"data.csv\"))\n",
        "user_features = pd.read_csv(os.path.join(path_to_files, \"user_features.csv\"))\n",
        "item_features = pd.read_csv(os.path.join(path_to_files, \"item_features.csv\"))"
      ],
      "execution_count": 9,
      "outputs": []
    },
    {
      "cell_type": "code",
      "metadata": {
        "colab": {
          "base_uri": "https://localhost:8080/",
          "height": 111
        },
        "id": "eTB2i5BP0R8U",
        "outputId": "df094949-687a-4bb2-9c47-3418c16cabcf"
      },
      "source": [
        "# схема обучения и валидации\n",
        "# -- давние покупки -- | -- 6 недель -- | -- 3 недель -- \n",
        "# подобрать размер 2-ого датасета (6 недель) --> learning curve (зависимость метрики recall@k от размера датасета)\n",
        "val_lvl_1_size_weeks = 6\n",
        "val_lvl_2_size_weeks = 3\n",
        "\n",
        "data_train_lvl_1 = data[data['week_no'] < data['week_no'].max() - (val_lvl_1_size_weeks + val_lvl_2_size_weeks)]\n",
        "data_val_lvl_1 = data[(data['week_no'] >= data['week_no'].max() - (val_lvl_1_size_weeks + val_lvl_2_size_weeks)) &\n",
        "                      (data['week_no'] < data['week_no'].max() - (val_lvl_2_size_weeks))]\n",
        "\n",
        "data_train_lvl_2 = data_val_lvl_1.copy()  # Для наглядности. Далее мы добавим изменения, и они будут отличаться\n",
        "data_val_lvl_2 = data[data['week_no'] >= data['week_no'].max() - val_lvl_2_size_weeks]\n",
        "\n",
        "data_train_lvl_1.head(2)"
      ],
      "execution_count": 10,
      "outputs": [
        {
          "output_type": "execute_result",
          "data": {
            "text/html": [
              "<div>\n",
              "<style scoped>\n",
              "    .dataframe tbody tr th:only-of-type {\n",
              "        vertical-align: middle;\n",
              "    }\n",
              "\n",
              "    .dataframe tbody tr th {\n",
              "        vertical-align: top;\n",
              "    }\n",
              "\n",
              "    .dataframe thead th {\n",
              "        text-align: right;\n",
              "    }\n",
              "</style>\n",
              "<table border=\"1\" class=\"dataframe\">\n",
              "  <thead>\n",
              "    <tr style=\"text-align: right;\">\n",
              "      <th></th>\n",
              "      <th>user_id</th>\n",
              "      <th>basket_id</th>\n",
              "      <th>day</th>\n",
              "      <th>item_id</th>\n",
              "      <th>quantity</th>\n",
              "      <th>sales_value</th>\n",
              "      <th>store_id</th>\n",
              "      <th>retail_disc</th>\n",
              "      <th>trans_time</th>\n",
              "      <th>week_no</th>\n",
              "      <th>coupon_disc</th>\n",
              "      <th>coupon_match_disc</th>\n",
              "    </tr>\n",
              "  </thead>\n",
              "  <tbody>\n",
              "    <tr>\n",
              "      <th>0</th>\n",
              "      <td>2375</td>\n",
              "      <td>26984851472</td>\n",
              "      <td>1</td>\n",
              "      <td>999999</td>\n",
              "      <td>1</td>\n",
              "      <td>1.39</td>\n",
              "      <td>364</td>\n",
              "      <td>-0.6</td>\n",
              "      <td>1631</td>\n",
              "      <td>1</td>\n",
              "      <td>0.0</td>\n",
              "      <td>0.0</td>\n",
              "    </tr>\n",
              "    <tr>\n",
              "      <th>1</th>\n",
              "      <td>2375</td>\n",
              "      <td>26984851472</td>\n",
              "      <td>1</td>\n",
              "      <td>999999</td>\n",
              "      <td>1</td>\n",
              "      <td>0.82</td>\n",
              "      <td>364</td>\n",
              "      <td>0.0</td>\n",
              "      <td>1631</td>\n",
              "      <td>1</td>\n",
              "      <td>0.0</td>\n",
              "      <td>0.0</td>\n",
              "    </tr>\n",
              "  </tbody>\n",
              "</table>\n",
              "</div>"
            ],
            "text/plain": [
              "   user_id    basket_id  day  ...  week_no  coupon_disc  coupon_match_disc\n",
              "0     2375  26984851472    1  ...        1          0.0                0.0\n",
              "1     2375  26984851472    1  ...        1          0.0                0.0\n",
              "\n",
              "[2 rows x 12 columns]"
            ]
          },
          "metadata": {
            "tags": []
          },
          "execution_count": 10
        }
      ]
    },
    {
      "cell_type": "code",
      "metadata": {
        "colab": {
          "base_uri": "https://localhost:8080/"
        },
        "id": "rM9CdgYP0R8X",
        "outputId": "bf9e46fb-8309-4132-bab7-4a0f9668a442"
      },
      "source": [
        "recommender = MainRecommender(data_train_lvl_1, item_features, user_features)"
      ],
      "execution_count": 11,
      "outputs": [
        {
          "output_type": "stream",
          "text": [
            "user_item_matrix\n",
            "user_feat\n",
            "item_feat\n"
          ],
          "name": "stdout"
        },
        {
          "output_type": "stream",
          "text": [
            "GPU training requires factor size to be a multiple of 32. Increasing factors from 50 to 64.\n",
            "WARNING:root:OpenBLAS detected. Its highly recommend to set the environment variable 'export OPENBLAS_NUM_THREADS=1' to disable its internal multithreading\n"
          ],
          "name": "stderr"
        },
        {
          "output_type": "stream",
          "text": [
            "ALS model\n"
          ],
          "name": "stdout"
        },
        {
          "output_type": "stream",
          "text": [
            "WARNING:implicit:GPU training requires factor size to be a multiple of 32. Increasing factors from 50 to 64.\n"
          ],
          "name": "stderr"
        },
        {
          "output_type": "stream",
          "text": [
            "ALS TF-IDF model\n"
          ],
          "name": "stdout"
        },
        {
          "output_type": "stream",
          "text": [
            "WARNING:implicit:GPU training requires factor size to be a multiple of 32. Increasing factors from 50 to 64.\n"
          ],
          "name": "stderr"
        },
        {
          "output_type": "stream",
          "text": [
            "ALS BM25 model\n",
            "LightFM model\n",
            "Own\n"
          ],
          "name": "stdout"
        }
      ]
    },
    {
      "cell_type": "code",
      "metadata": {
        "id": "T4jAA4Cq0R8Y"
      },
      "source": [
        "users_lvl_2_pred_als = pd.DataFrame(data_val_lvl_2['user_id'].unique())\n",
        "users_lvl_2_pred_als.columns = ['user_id']"
      ],
      "execution_count": 12,
      "outputs": []
    },
    {
      "cell_type": "code",
      "metadata": {
        "id": "L6KaSHGt0R8Z"
      },
      "source": [
        "result_lvl_2 = data_val_lvl_2.groupby('user_id')['item_id'].unique().reset_index()\n",
        "result_lvl_2.columns=['user_id', 'actual']"
      ],
      "execution_count": 220,
      "outputs": []
    },
    {
      "cell_type": "code",
      "metadata": {
        "id": "nJCjKGnCWFPt"
      },
      "source": [
        "k_n = 5\n",
        "num = 200"
      ],
      "execution_count": 221,
      "outputs": []
    },
    {
      "cell_type": "code",
      "metadata": {
        "colab": {
          "base_uri": "https://localhost:8080/"
        },
        "id": "37jOPHqX0R8Z",
        "outputId": "e2fab494-ba1e-477e-dd12-43113bb47629"
      },
      "source": [
        "popularity = data.groupby('item_id')['quantity'].sum().reset_index()\n",
        "popularity.rename(columns={'quantity': 'n_sold'}, inplace=True)\n",
        "item_list = popularity.sort_values('n_sold', ascending=False).head(num+1).item_id.tolist()\n",
        "item_list = item_list[1:num+1]\n",
        "len(item_list)"
      ],
      "execution_count": 15,
      "outputs": [
        {
          "output_type": "execute_result",
          "data": {
            "text/plain": [
              "200"
            ]
          },
          "metadata": {
            "tags": []
          },
          "execution_count": 15
        }
      ]
    },
    {
      "cell_type": "code",
      "metadata": {
        "id": "j7m_fhMD0R8a"
      },
      "source": [
        "user_train_list = data_train_lvl_1[\"user_id\"].unique().tolist()"
      ],
      "execution_count": 16,
      "outputs": []
    },
    {
      "cell_type": "code",
      "metadata": {
        "id": "qHjmX-RS0R8b"
      },
      "source": [
        "def get_pred_als(recommender, user_train_list, item_list, x, num=5):\n",
        "    res = []\n",
        "    if x in user_train_list:\n",
        "        res.extend(recommender.get_als_recommendations(x, rec_num=num))\n",
        "    else:\n",
        "        res.extend(item_list)    # res.extend(random.choices(item_list, k=num))\n",
        "    return res"
      ],
      "execution_count": 17,
      "outputs": []
    },
    {
      "cell_type": "code",
      "metadata": {
        "id": "wuYFaPDOnc99"
      },
      "source": [
        "def get_pred_als_tfidf(recommender, user_train_list, item_list, x, num=5):\n",
        "    res = []\n",
        "    if x in user_train_list:\n",
        "        res.extend(recommender.get_als_tfidf_recommendations(x, rec_num=num))\n",
        "    else:\n",
        "        res.extend(item_list)    # res.extend(random.choices(item_list, k=num))\n",
        "    return res"
      ],
      "execution_count": 18,
      "outputs": []
    },
    {
      "cell_type": "code",
      "metadata": {
        "id": "1n57Ykxmnd0l"
      },
      "source": [
        "def get_pred_als_bm25(recommender, user_train_list, item_list, x, num=5):\n",
        "    res = []\n",
        "    if x in user_train_list:\n",
        "        res.extend(recommender.get_als_bm25_recommendations(x, rec_num=num))\n",
        "    else:\n",
        "        res.extend(item_list)    # res.extend(random.choices(item_list, k=num))\n",
        "    return res"
      ],
      "execution_count": 19,
      "outputs": []
    },
    {
      "cell_type": "code",
      "metadata": {
        "id": "VwQ8nHRp0R8c"
      },
      "source": [
        "def get_pred_own(recommender, user_train_list, item_list, x, num=5):\n",
        "    res = []\n",
        "    if x in user_train_list:\n",
        "        res.extend(recommender.get_own_recommendations(x, rec_num=num))\n",
        "    else:\n",
        "        res.extend(item_list)    # res.extend(random.choices(item_list, k=num))\n",
        "    return res"
      ],
      "execution_count": 20,
      "outputs": []
    },
    {
      "cell_type": "code",
      "metadata": {
        "id": "bsxSL-WY0R8c"
      },
      "source": [
        "def get_pred_similar_items(recommender, user_train_list, item_list, x, num=5):\n",
        "    res = []\n",
        "    if x in user_train_list:\n",
        "        res.extend(recommender.get_similar_items_recommendation(x, rec_num=num))\n",
        "    else:\n",
        "        res.extend(item_list)    # res.extend(random.choices(item_list, k=num))\n",
        "    return res"
      ],
      "execution_count": 21,
      "outputs": []
    },
    {
      "cell_type": "code",
      "metadata": {
        "colab": {
          "base_uri": "https://localhost:8080/"
        },
        "id": "vPb9YwNm0R8d",
        "outputId": "42bbead7-21fa-4282-a8d5-cce13773641b"
      },
      "source": [
        "users_lvl_2_pred_als['predictions'] = users_lvl_2_pred_als['user_id'].apply(\\\n",
        "                            lambda x: get_pred_als(recommender, user_train_list, item_list, x, num=num))\n",
        "    \n",
        "users_lvl_2_pred_als[\"prec\"] = users_lvl_2_pred_als['user_id'].apply(\\\n",
        "        lambda x: precision_at_k(users_lvl_2_pred_als.loc[users_lvl_2_pred_als[\"user_id\"] == x, \"predictions\"].values[0], \n",
        "                                 list(result_lvl_2.loc[result_lvl_2[\"user_id\"] == x, \"actual\"].values[0]), \n",
        "                                 k=k_n))\n",
        "\n",
        "users_lvl_2_pred_als[\"prec\"].mean()"
      ],
      "execution_count": 22,
      "outputs": [
        {
          "output_type": "execute_result",
          "data": {
            "text/plain": [
              "0.2190009794319263"
            ]
          },
          "metadata": {
            "tags": []
          },
          "execution_count": 22
        }
      ]
    },
    {
      "cell_type": "code",
      "metadata": {
        "colab": {
          "base_uri": "https://localhost:8080/"
        },
        "id": "lYQpjaP10R8d",
        "outputId": "677e23ae-8a60-4261-c929-559c55e83135"
      },
      "source": [
        "users_lvl_2_pred_als[\"rec\"] = users_lvl_2_pred_als['user_id'].apply(\\\n",
        "        lambda x: recall_at_k(users_lvl_2_pred_als.loc[users_lvl_2_pred_als[\"user_id\"] == x, \"predictions\"].values[0], \n",
        "                              list(result_lvl_2.loc[result_lvl_2[\"user_id\"] == x, \"actual\"].values[0]), \n",
        "                              k=k_n))\n",
        "\n",
        "users_lvl_2_pred_als[\"rec\"].mean()"
      ],
      "execution_count": 23,
      "outputs": [
        {
          "output_type": "execute_result",
          "data": {
            "text/plain": [
              "0.039716490150321734"
            ]
          },
          "metadata": {
            "tags": []
          },
          "execution_count": 23
        }
      ]
    },
    {
      "cell_type": "code",
      "metadata": {
        "colab": {
          "base_uri": "https://localhost:8080/"
        },
        "id": "epIsPADV0R8e",
        "outputId": "8fdd6c02-6c72-45a5-ef5f-0b63eed4a729"
      },
      "source": [
        "users_lvl_2_pred_als['predictions_tfidf'] = users_lvl_2_pred_als['user_id'].apply(\\\n",
        "                            lambda x: get_pred_als_tfidf(recommender, user_train_list, item_list, x, num=num))\n",
        "    \n",
        "users_lvl_2_pred_als[\"prec_tfidf\"] = users_lvl_2_pred_als['user_id'].apply(\\\n",
        "        lambda x: precision_at_k(users_lvl_2_pred_als.loc[users_lvl_2_pred_als[\"user_id\"] == x, \"predictions_tfidf\"].values[0], \n",
        "                                 list(result_lvl_2.loc[result_lvl_2[\"user_id\"] == x, \"actual\"].values[0]), \n",
        "                                 k=k_n))\n",
        "\n",
        "users_lvl_2_pred_als[\"prec_tfidf\"].mean()"
      ],
      "execution_count": 23,
      "outputs": [
        {
          "output_type": "execute_result",
          "data": {
            "text/plain": [
              "0.15945151811948832"
            ]
          },
          "metadata": {
            "tags": []
          },
          "execution_count": 23
        }
      ]
    },
    {
      "cell_type": "code",
      "metadata": {
        "colab": {
          "base_uri": "https://localhost:8080/"
        },
        "id": "xE5iknQAQe12",
        "outputId": "7ce7ca71-b648-4813-be06-707b39f4f830"
      },
      "source": [
        "users_lvl_2_pred_als[\"rec_tfidf\"] = users_lvl_2_pred_als['user_id'].apply(\\\n",
        "        lambda x: recall_at_k(users_lvl_2_pred_als.loc[users_lvl_2_pred_als[\"user_id\"] == x, \"predictions_tfidf\"].values[0], \n",
        "                              list(result_lvl_2.loc[result_lvl_2[\"user_id\"] == x, \"actual\"].values[0]), \n",
        "                              k=k_n))\n",
        "\n",
        "users_lvl_2_pred_als[\"rec_tfidf\"].mean()"
      ],
      "execution_count": 24,
      "outputs": [
        {
          "output_type": "execute_result",
          "data": {
            "text/plain": [
              "0.029782777371396233"
            ]
          },
          "metadata": {
            "tags": []
          },
          "execution_count": 24
        }
      ]
    },
    {
      "cell_type": "code",
      "metadata": {
        "colab": {
          "base_uri": "https://localhost:8080/"
        },
        "id": "YCExB6JEUsre",
        "outputId": "d80d7ac1-c742-4e1d-97cc-69afac45fd2d"
      },
      "source": [
        "users_lvl_2_pred_als['predictions_bm25'] = users_lvl_2_pred_als['user_id'].apply(\\\n",
        "                            lambda x: get_pred_als_bm25(recommender, user_train_list, item_list, x, num=num))\n",
        "    \n",
        "users_lvl_2_pred_als[\"prec_bm25\"] = users_lvl_2_pred_als['user_id'].apply(\\\n",
        "        lambda x: precision_at_k(users_lvl_2_pred_als.loc[users_lvl_2_pred_als[\"user_id\"] == x, \"predictions_bm25\"].values[0], \n",
        "                                 list(result_lvl_2.loc[result_lvl_2[\"user_id\"] == x, \"actual\"].values[0]), \n",
        "                                 k=k_n))\n",
        "\n",
        "users_lvl_2_pred_als[\"prec_bm25\"].mean()"
      ],
      "execution_count": 25,
      "outputs": [
        {
          "output_type": "execute_result",
          "data": {
            "text/plain": [
              "0.21057786483839058"
            ]
          },
          "metadata": {
            "tags": []
          },
          "execution_count": 25
        }
      ]
    },
    {
      "cell_type": "code",
      "metadata": {
        "colab": {
          "base_uri": "https://localhost:8080/"
        },
        "id": "cA-qpkoSX_9L",
        "outputId": "f023ce2e-201d-4699-bff8-92313395f06e"
      },
      "source": [
        "users_lvl_2_pred_als[\"rec_bm25\"] = users_lvl_2_pred_als['user_id'].apply(\\\n",
        "        lambda x: recall_at_k(users_lvl_2_pred_als.loc[users_lvl_2_pred_als[\"user_id\"] == x, \"predictions_bm25\"].values[0], \n",
        "                              list(result_lvl_2.loc[result_lvl_2[\"user_id\"] == x, \"actual\"].values[0]), \n",
        "                              k=k_n))\n",
        "\n",
        "users_lvl_2_pred_als[\"rec_bm25\"].mean()"
      ],
      "execution_count": 26,
      "outputs": [
        {
          "output_type": "execute_result",
          "data": {
            "text/plain": [
              "0.03214532586471245"
            ]
          },
          "metadata": {
            "tags": []
          },
          "execution_count": 26
        }
      ]
    },
    {
      "cell_type": "code",
      "metadata": {
        "colab": {
          "base_uri": "https://localhost:8080/",
          "height": 289
        },
        "id": "OsoHtTnhe6IY",
        "outputId": "83f2eb3b-3834-4e24-c32c-bdd8c36ade8c"
      },
      "source": [
        "users_lvl_2_pred_als.head()"
      ],
      "execution_count": 27,
      "outputs": [
        {
          "output_type": "execute_result",
          "data": {
            "text/html": [
              "<div>\n",
              "<style scoped>\n",
              "    .dataframe tbody tr th:only-of-type {\n",
              "        vertical-align: middle;\n",
              "    }\n",
              "\n",
              "    .dataframe tbody tr th {\n",
              "        vertical-align: top;\n",
              "    }\n",
              "\n",
              "    .dataframe thead th {\n",
              "        text-align: right;\n",
              "    }\n",
              "</style>\n",
              "<table border=\"1\" class=\"dataframe\">\n",
              "  <thead>\n",
              "    <tr style=\"text-align: right;\">\n",
              "      <th></th>\n",
              "      <th>user_id</th>\n",
              "      <th>predictions</th>\n",
              "      <th>prec</th>\n",
              "      <th>rec</th>\n",
              "      <th>predictions_tfidf</th>\n",
              "      <th>prec_tfidf</th>\n",
              "      <th>rec_tfidf</th>\n",
              "      <th>predictions_bm25</th>\n",
              "      <th>prec_bm25</th>\n",
              "      <th>rec_bm25</th>\n",
              "    </tr>\n",
              "  </thead>\n",
              "  <tbody>\n",
              "    <tr>\n",
              "      <th>0</th>\n",
              "      <td>338</td>\n",
              "      <td>[845208, 1037863, 904360, 981760, 1026118, 108...</td>\n",
              "      <td>0.4</td>\n",
              "      <td>0.026667</td>\n",
              "      <td>[845208, 923746, 1037863, 904360, 962568, 1026...</td>\n",
              "      <td>0.2</td>\n",
              "      <td>0.013333</td>\n",
              "      <td>[1082185, 981760, 845208, 1026118, 895166, 871...</td>\n",
              "      <td>0.4</td>\n",
              "      <td>0.026667</td>\n",
              "    </tr>\n",
              "    <tr>\n",
              "      <th>1</th>\n",
              "      <td>2120</td>\n",
              "      <td>[1082185, 1106523, 981760, 1029743, 995242, 11...</td>\n",
              "      <td>0.0</td>\n",
              "      <td>0.000000</td>\n",
              "      <td>[1082185, 1029743, 995242, 981760, 1127831, 11...</td>\n",
              "      <td>0.0</td>\n",
              "      <td>0.000000</td>\n",
              "      <td>[1082185, 981760, 989824, 995055, 1041476, 109...</td>\n",
              "      <td>0.0</td>\n",
              "      <td>0.000000</td>\n",
              "    </tr>\n",
              "    <tr>\n",
              "      <th>2</th>\n",
              "      <td>2324</td>\n",
              "      <td>[995242, 1082185, 1029743, 5978656, 981760, 91...</td>\n",
              "      <td>0.6</td>\n",
              "      <td>0.071429</td>\n",
              "      <td>[1005186, 1136257, 1039156, 5978656, 1082185, ...</td>\n",
              "      <td>0.4</td>\n",
              "      <td>0.047619</td>\n",
              "      <td>[1082185, 981760, 5978656, 995242, 1127831, 84...</td>\n",
              "      <td>0.4</td>\n",
              "      <td>0.047619</td>\n",
              "    </tr>\n",
              "    <tr>\n",
              "      <th>3</th>\n",
              "      <td>514</td>\n",
              "      <td>[878996, 1082185, 1024306, 866211, 1127831, 10...</td>\n",
              "      <td>0.8</td>\n",
              "      <td>0.125000</td>\n",
              "      <td>[1062002, 1127179, 878996, 1082185, 1110843, 9...</td>\n",
              "      <td>0.8</td>\n",
              "      <td>0.125000</td>\n",
              "      <td>[1082185, 878996, 1062002, 1127831, 1023720, 8...</td>\n",
              "      <td>0.6</td>\n",
              "      <td>0.093750</td>\n",
              "    </tr>\n",
              "    <tr>\n",
              "      <th>4</th>\n",
              "      <td>1762</td>\n",
              "      <td>[1110572, 839419, 1068719, 971949, 986912, 826...</td>\n",
              "      <td>0.0</td>\n",
              "      <td>0.000000</td>\n",
              "      <td>[1110572, 845705, 1084331, 1053690, 839419, 10...</td>\n",
              "      <td>0.0</td>\n",
              "      <td>0.000000</td>\n",
              "      <td>[1029743, 826249, 1098066, 1067606, 995242, 10...</td>\n",
              "      <td>0.2</td>\n",
              "      <td>0.011765</td>\n",
              "    </tr>\n",
              "  </tbody>\n",
              "</table>\n",
              "</div>"
            ],
            "text/plain": [
              "   user_id  ...  rec_bm25\n",
              "0      338  ...  0.026667\n",
              "1     2120  ...  0.000000\n",
              "2     2324  ...  0.047619\n",
              "3      514  ...  0.093750\n",
              "4     1762  ...  0.011765\n",
              "\n",
              "[5 rows x 10 columns]"
            ]
          },
          "metadata": {
            "tags": []
          },
          "execution_count": 27
        }
      ]
    },
    {
      "cell_type": "markdown",
      "metadata": {
        "id": "A07eskRxdy-0"
      },
      "source": [
        "### Строим классификатор"
      ]
    },
    {
      "cell_type": "code",
      "metadata": {
        "id": "SMG6YcTy-bUJ"
      },
      "source": [
        "users_lvl_2 = pd.DataFrame(data_train_lvl_2['user_id'].unique())\n",
        "users_lvl_2.columns = ['user_id']\n",
        "\n",
        "users_lvl_2['candidates'] = users_lvl_2['user_id'].apply(lambda x: get_pred_als(recommender, user_train_list, item_list, x, num=num))"
      ],
      "execution_count": 140,
      "outputs": []
    },
    {
      "cell_type": "code",
      "metadata": {
        "colab": {
          "base_uri": "https://localhost:8080/",
          "height": 204
        },
        "id": "Ovo12ZTx-be2",
        "outputId": "4005ed32-dbed-4659-f4d5-861b29c96d9a"
      },
      "source": [
        "users_lvl_2.head()"
      ],
      "execution_count": 141,
      "outputs": [
        {
          "output_type": "execute_result",
          "data": {
            "text/html": [
              "<div>\n",
              "<style scoped>\n",
              "    .dataframe tbody tr th:only-of-type {\n",
              "        vertical-align: middle;\n",
              "    }\n",
              "\n",
              "    .dataframe tbody tr th {\n",
              "        vertical-align: top;\n",
              "    }\n",
              "\n",
              "    .dataframe thead th {\n",
              "        text-align: right;\n",
              "    }\n",
              "</style>\n",
              "<table border=\"1\" class=\"dataframe\">\n",
              "  <thead>\n",
              "    <tr style=\"text-align: right;\">\n",
              "      <th></th>\n",
              "      <th>user_id</th>\n",
              "      <th>candidates</th>\n",
              "    </tr>\n",
              "  </thead>\n",
              "  <tbody>\n",
              "    <tr>\n",
              "      <th>0</th>\n",
              "      <td>2070</td>\n",
              "      <td>[1107553, 5569471, 833025, 1096036, 1029743, 9...</td>\n",
              "    </tr>\n",
              "    <tr>\n",
              "      <th>1</th>\n",
              "      <td>2021</td>\n",
              "      <td>[1082185, 951590, 981760, 1044078, 844179, 826...</td>\n",
              "    </tr>\n",
              "    <tr>\n",
              "      <th>2</th>\n",
              "      <td>1753</td>\n",
              "      <td>[1085604, 1005186, 879755, 1106523, 986912, 11...</td>\n",
              "    </tr>\n",
              "    <tr>\n",
              "      <th>3</th>\n",
              "      <td>2120</td>\n",
              "      <td>[1082185, 1106523, 1029743, 981760, 995242, 10...</td>\n",
              "    </tr>\n",
              "    <tr>\n",
              "      <th>4</th>\n",
              "      <td>1346</td>\n",
              "      <td>[1082185, 1127831, 866211, 1058997, 878996, 11...</td>\n",
              "    </tr>\n",
              "  </tbody>\n",
              "</table>\n",
              "</div>"
            ],
            "text/plain": [
              "   user_id                                         candidates\n",
              "0     2070  [1107553, 5569471, 833025, 1096036, 1029743, 9...\n",
              "1     2021  [1082185, 951590, 981760, 1044078, 844179, 826...\n",
              "2     1753  [1085604, 1005186, 879755, 1106523, 986912, 11...\n",
              "3     2120  [1082185, 1106523, 1029743, 981760, 995242, 10...\n",
              "4     1346  [1082185, 1127831, 866211, 1058997, 878996, 11..."
            ]
          },
          "metadata": {
            "tags": []
          },
          "execution_count": 141
        }
      ]
    },
    {
      "cell_type": "code",
      "metadata": {
        "colab": {
          "base_uri": "https://localhost:8080/"
        },
        "id": "dEJfTo7N-bjQ",
        "outputId": "0a35060b-0766-4406-eb23-aa7566dda81e"
      },
      "source": [
        "users_lvl_2.info()"
      ],
      "execution_count": 142,
      "outputs": [
        {
          "output_type": "stream",
          "text": [
            "<class 'pandas.core.frame.DataFrame'>\n",
            "RangeIndex: 2154 entries, 0 to 2153\n",
            "Data columns (total 2 columns):\n",
            " #   Column      Non-Null Count  Dtype \n",
            "---  ------      --------------  ----- \n",
            " 0   user_id     2154 non-null   int64 \n",
            " 1   candidates  2154 non-null   object\n",
            "dtypes: int64(1), object(1)\n",
            "memory usage: 33.8+ KB\n"
          ],
          "name": "stdout"
        }
      ]
    },
    {
      "cell_type": "code",
      "metadata": {
        "id": "9z5RQcqV-bn6"
      },
      "source": [
        "df=pd.DataFrame({'user_id':users_lvl_2.user_id.values.repeat(len(users_lvl_2.candidates[0])),\n",
        "                 'item_id':np.concatenate(users_lvl_2.candidates.values)})"
      ],
      "execution_count": 222,
      "outputs": []
    },
    {
      "cell_type": "code",
      "metadata": {
        "id": "Jg7b9L9IecU6"
      },
      "source": [
        "targets_lvl_2 = data_train_lvl_2[['user_id', 'item_id']].copy()\n",
        "targets_lvl_2['target'] = 1  # тут только покупки \n",
        "\n",
        "targets_lvl_2 = df.merge(targets_lvl_2, on=['user_id', 'item_id'], how='left')\n",
        "\n",
        "targets_lvl_2['target'].fillna(0, inplace= True)"
      ],
      "execution_count": 223,
      "outputs": []
    },
    {
      "cell_type": "code",
      "metadata": {
        "colab": {
          "base_uri": "https://localhost:8080/"
        },
        "id": "M9jmp8_WecaG",
        "outputId": "dda878e1-bab5-4a00-ddb4-b845250ff1f3"
      },
      "source": [
        "targets_lvl_2.shape"
      ],
      "execution_count": 224,
      "outputs": [
        {
          "output_type": "execute_result",
          "data": {
            "text/plain": [
              "(444800, 3)"
            ]
          },
          "metadata": {
            "tags": []
          },
          "execution_count": 224
        }
      ]
    },
    {
      "cell_type": "code",
      "metadata": {
        "colab": {
          "base_uri": "https://localhost:8080/",
          "height": 165
        },
        "id": "SUT5GG8uecfj",
        "outputId": "39ccf768-611a-4191-9450-9e152b64ba39"
      },
      "source": [
        "targets_lvl_2 = targets_lvl_2.merge(item_features, on='item_id', how='left') #\n",
        "targets_lvl_2 = targets_lvl_2.merge(user_features, on='user_id', how='left') #\n",
        "\n",
        "targets_lvl_2.head(2)"
      ],
      "execution_count": 225,
      "outputs": [
        {
          "output_type": "execute_result",
          "data": {
            "text/html": [
              "<div>\n",
              "<style scoped>\n",
              "    .dataframe tbody tr th:only-of-type {\n",
              "        vertical-align: middle;\n",
              "    }\n",
              "\n",
              "    .dataframe tbody tr th {\n",
              "        vertical-align: top;\n",
              "    }\n",
              "\n",
              "    .dataframe thead th {\n",
              "        text-align: right;\n",
              "    }\n",
              "</style>\n",
              "<table border=\"1\" class=\"dataframe\">\n",
              "  <thead>\n",
              "    <tr style=\"text-align: right;\">\n",
              "      <th></th>\n",
              "      <th>user_id</th>\n",
              "      <th>item_id</th>\n",
              "      <th>target</th>\n",
              "      <th>manufacturer</th>\n",
              "      <th>department</th>\n",
              "      <th>brand</th>\n",
              "      <th>commodity_desc</th>\n",
              "      <th>sub_commodity_desc</th>\n",
              "      <th>curr_size_of_product</th>\n",
              "      <th>age_desc</th>\n",
              "      <th>marital_status_code</th>\n",
              "      <th>income_desc</th>\n",
              "      <th>homeowner_desc</th>\n",
              "      <th>hh_comp_desc</th>\n",
              "      <th>household_size_desc</th>\n",
              "      <th>kid_category_desc</th>\n",
              "      <th>bill_avg</th>\n",
              "      <th>week_last_bill</th>\n",
              "      <th>items_per_week</th>\n",
              "    </tr>\n",
              "  </thead>\n",
              "  <tbody>\n",
              "    <tr>\n",
              "      <th>0</th>\n",
              "      <td>2070</td>\n",
              "      <td>1107553</td>\n",
              "      <td>0.0</td>\n",
              "      <td>103</td>\n",
              "      <td>GROCERY</td>\n",
              "      <td>National</td>\n",
              "      <td>SOFT DRINKS</td>\n",
              "      <td>SFT DRNK SNGL SRV BTL CARB (EX</td>\n",
              "      <td>20 OZ</td>\n",
              "      <td>45-54</td>\n",
              "      <td>U</td>\n",
              "      <td>50-74K</td>\n",
              "      <td>Unknown</td>\n",
              "      <td>Unknown</td>\n",
              "      <td>1</td>\n",
              "      <td>None/Unknown</td>\n",
              "      <td>2.891039</td>\n",
              "      <td>95.0</td>\n",
              "      <td>29.814815</td>\n",
              "    </tr>\n",
              "    <tr>\n",
              "      <th>1</th>\n",
              "      <td>2070</td>\n",
              "      <td>5569471</td>\n",
              "      <td>0.0</td>\n",
              "      <td>1208</td>\n",
              "      <td>GROCERY</td>\n",
              "      <td>National</td>\n",
              "      <td>SOFT DRINKS</td>\n",
              "      <td>SOFT DRINKS 12/18&amp;15PK CAN CAR</td>\n",
              "      <td>12 OZ</td>\n",
              "      <td>45-54</td>\n",
              "      <td>U</td>\n",
              "      <td>50-74K</td>\n",
              "      <td>Unknown</td>\n",
              "      <td>Unknown</td>\n",
              "      <td>1</td>\n",
              "      <td>None/Unknown</td>\n",
              "      <td>2.891039</td>\n",
              "      <td>95.0</td>\n",
              "      <td>29.814815</td>\n",
              "    </tr>\n",
              "  </tbody>\n",
              "</table>\n",
              "</div>"
            ],
            "text/plain": [
              "   user_id  item_id  target  ...  bill_avg week_last_bill items_per_week\n",
              "0     2070  1107553     0.0  ...  2.891039           95.0      29.814815\n",
              "1     2070  5569471     0.0  ...  2.891039           95.0      29.814815\n",
              "\n",
              "[2 rows x 19 columns]"
            ]
          },
          "metadata": {
            "tags": []
          },
          "execution_count": 225
        }
      ]
    },
    {
      "cell_type": "code",
      "metadata": {
        "colab": {
          "base_uri": "https://localhost:8080/"
        },
        "id": "b_rnx16aecjW",
        "outputId": "06303e5e-914f-4b99-8d98-cec53199b925"
      },
      "source": [
        "targets_lvl_2.shape"
      ],
      "execution_count": 226,
      "outputs": [
        {
          "output_type": "execute_result",
          "data": {
            "text/plain": [
              "(444800, 19)"
            ]
          },
          "metadata": {
            "tags": []
          },
          "execution_count": 226
        }
      ]
    },
    {
      "cell_type": "code",
      "metadata": {
        "id": "GFQQn3YpIFt8"
      },
      "source": [
        "targets_lvl_2.fillna(0, inplace=True)"
      ],
      "execution_count": 227,
      "outputs": []
    },
    {
      "cell_type": "code",
      "metadata": {
        "id": "fctm5nRSaDrQ"
      },
      "source": [
        "X_train = targets_lvl_2.drop('target', axis=1)\n",
        "y_train = targets_lvl_2[['target']]"
      ],
      "execution_count": 228,
      "outputs": []
    },
    {
      "cell_type": "code",
      "metadata": {
        "colab": {
          "base_uri": "https://localhost:8080/"
        },
        "id": "YEWE4R4yd5dJ",
        "outputId": "23de3286-0082-423f-ee8b-f45a860472ac"
      },
      "source": [
        "cat_feats = X_train.columns[2:].tolist()\n",
        "X_train[cat_feats] = X_train[cat_feats].astype('category')\n",
        "\n",
        "cat_feats"
      ],
      "execution_count": 229,
      "outputs": [
        {
          "output_type": "execute_result",
          "data": {
            "text/plain": [
              "['manufacturer',\n",
              " 'department',\n",
              " 'brand',\n",
              " 'commodity_desc',\n",
              " 'sub_commodity_desc',\n",
              " 'curr_size_of_product',\n",
              " 'age_desc',\n",
              " 'marital_status_code',\n",
              " 'income_desc',\n",
              " 'homeowner_desc',\n",
              " 'hh_comp_desc',\n",
              " 'household_size_desc',\n",
              " 'kid_category_desc',\n",
              " 'bill_avg',\n",
              " 'week_last_bill',\n",
              " 'items_per_week']"
            ]
          },
          "metadata": {
            "tags": []
          },
          "execution_count": 229
        }
      ]
    },
    {
      "cell_type": "code",
      "metadata": {
        "id": "eg1mQOKpI88x"
      },
      "source": [
        "lgb = LGBMClassifier(objective='binary', \n",
        "                     n_estimators=1500,\n",
        "                     learning_rate=0.008,\n",
        "                     max_depth=7, \n",
        "                     verbose=1,\n",
        "                     categorical_column=cat_feats)\n",
        "\n",
        "hist = lgb.fit(X_train, y_train, \n",
        "               eval_set=[(X_train, y_train)],\n",
        "               eval_metric=['logloss'],\n",
        "               early_stopping_rounds=50,\n",
        "               verbose=0)\n",
        "\n",
        "train_preds = lgb.predict_proba(X_train)"
      ],
      "execution_count": 230,
      "outputs": []
    },
    {
      "cell_type": "code",
      "metadata": {
        "colab": {
          "base_uri": "https://localhost:8080/"
        },
        "id": "PhYBDirlJNmY",
        "outputId": "542b7523-1e8a-48f1-d645-fe2c6f672e97"
      },
      "source": [
        "hist.evals_result_['training']['binary_logloss'][-10:]"
      ],
      "execution_count": 231,
      "outputs": [
        {
          "output_type": "execute_result",
          "data": {
            "text/plain": [
              "[0.2396841878127636,\n",
              " 0.23967181350538252,\n",
              " 0.23965332173955894,\n",
              " 0.23963101027024172,\n",
              " 0.239619345669979,\n",
              " 0.23960667120520351,\n",
              " 0.23959363405947803,\n",
              " 0.23958299230636929,\n",
              " 0.23957112226368338,\n",
              " 0.2395491156431475]"
            ]
          },
          "metadata": {
            "tags": []
          },
          "execution_count": 231
        }
      ]
    },
    {
      "cell_type": "code",
      "metadata": {
        "colab": {
          "base_uri": "https://localhost:8080/",
          "height": 204
        },
        "id": "vzlQw_M_KEsg",
        "outputId": "6a090a9d-9d7a-4948-b1b3-40102fbda09c"
      },
      "source": [
        "classifer_prediction = X_train[['user_id', 'item_id']]\n",
        "classifer_prediction[\"pred\"] = train_preds[:, 1]\n",
        "classifer_prediction.tail()"
      ],
      "execution_count": 232,
      "outputs": [
        {
          "output_type": "execute_result",
          "data": {
            "text/html": [
              "<div>\n",
              "<style scoped>\n",
              "    .dataframe tbody tr th:only-of-type {\n",
              "        vertical-align: middle;\n",
              "    }\n",
              "\n",
              "    .dataframe tbody tr th {\n",
              "        vertical-align: top;\n",
              "    }\n",
              "\n",
              "    .dataframe thead th {\n",
              "        text-align: right;\n",
              "    }\n",
              "</style>\n",
              "<table border=\"1\" class=\"dataframe\">\n",
              "  <thead>\n",
              "    <tr style=\"text-align: right;\">\n",
              "      <th></th>\n",
              "      <th>user_id</th>\n",
              "      <th>item_id</th>\n",
              "      <th>pred</th>\n",
              "    </tr>\n",
              "  </thead>\n",
              "  <tbody>\n",
              "    <tr>\n",
              "      <th>444795</th>\n",
              "      <td>1745</td>\n",
              "      <td>907631</td>\n",
              "      <td>0.012037</td>\n",
              "    </tr>\n",
              "    <tr>\n",
              "      <th>444796</th>\n",
              "      <td>1745</td>\n",
              "      <td>858302</td>\n",
              "      <td>0.010879</td>\n",
              "    </tr>\n",
              "    <tr>\n",
              "      <th>444797</th>\n",
              "      <td>1745</td>\n",
              "      <td>965267</td>\n",
              "      <td>0.001061</td>\n",
              "    </tr>\n",
              "    <tr>\n",
              "      <th>444798</th>\n",
              "      <td>1745</td>\n",
              "      <td>1100972</td>\n",
              "      <td>0.013453</td>\n",
              "    </tr>\n",
              "    <tr>\n",
              "      <th>444799</th>\n",
              "      <td>1745</td>\n",
              "      <td>10204822</td>\n",
              "      <td>0.000847</td>\n",
              "    </tr>\n",
              "  </tbody>\n",
              "</table>\n",
              "</div>"
            ],
            "text/plain": [
              "        user_id   item_id      pred\n",
              "444795     1745    907631  0.012037\n",
              "444796     1745    858302  0.010879\n",
              "444797     1745    965267  0.001061\n",
              "444798     1745   1100972  0.013453\n",
              "444799     1745  10204822  0.000847"
            ]
          },
          "metadata": {
            "tags": []
          },
          "execution_count": 232
        }
      ]
    },
    {
      "cell_type": "code",
      "metadata": {
        "colab": {
          "base_uri": "https://localhost:8080/"
        },
        "id": "w7iW9pIyKWrl",
        "outputId": "4139f5f0-37bf-4ca3-ecd8-6f9c875834ea"
      },
      "source": [
        "res_val = classifer_prediction.loc[classifer_prediction[\"pred\"]>0.5, [\"user_id\", \"item_id\"]]\n",
        "res_val.shape"
      ],
      "execution_count": 233,
      "outputs": [
        {
          "output_type": "execute_result",
          "data": {
            "text/plain": [
              "(9976, 2)"
            ]
          },
          "metadata": {
            "tags": []
          },
          "execution_count": 233
        }
      ]
    },
    {
      "cell_type": "code",
      "metadata": {
        "colab": {
          "base_uri": "https://localhost:8080/",
          "height": 204
        },
        "id": "kl0CaknIPa2i",
        "outputId": "a85057a2-a881-4b53-f9c3-9bdffe700628"
      },
      "source": [
        "pred_lvl_2 = res_val.groupby('user_id')['item_id'].unique().reset_index()\n",
        "pred_lvl_2.columns=['user_id', 'pred']\n",
        "pred_lvl_2.head()"
      ],
      "execution_count": 234,
      "outputs": [
        {
          "output_type": "execute_result",
          "data": {
            "text/html": [
              "<div>\n",
              "<style scoped>\n",
              "    .dataframe tbody tr th:only-of-type {\n",
              "        vertical-align: middle;\n",
              "    }\n",
              "\n",
              "    .dataframe tbody tr th {\n",
              "        vertical-align: top;\n",
              "    }\n",
              "\n",
              "    .dataframe thead th {\n",
              "        text-align: right;\n",
              "    }\n",
              "</style>\n",
              "<table border=\"1\" class=\"dataframe\">\n",
              "  <thead>\n",
              "    <tr style=\"text-align: right;\">\n",
              "      <th></th>\n",
              "      <th>user_id</th>\n",
              "      <th>pred</th>\n",
              "    </tr>\n",
              "  </thead>\n",
              "  <tbody>\n",
              "    <tr>\n",
              "      <th>0</th>\n",
              "      <td>1</td>\n",
              "      <td>[995242, 1029743, 1082185, 9655212, 1049998, 1...</td>\n",
              "    </tr>\n",
              "    <tr>\n",
              "      <th>1</th>\n",
              "      <td>7</td>\n",
              "      <td>[1082185]</td>\n",
              "    </tr>\n",
              "    <tr>\n",
              "      <th>2</th>\n",
              "      <td>8</td>\n",
              "      <td>[1082185]</td>\n",
              "    </tr>\n",
              "    <tr>\n",
              "      <th>3</th>\n",
              "      <td>13</td>\n",
              "      <td>[995242, 5978656, 1029743, 5978648, 1082185, 1...</td>\n",
              "    </tr>\n",
              "    <tr>\n",
              "      <th>4</th>\n",
              "      <td>16</td>\n",
              "      <td>[1082185, 1313189]</td>\n",
              "    </tr>\n",
              "  </tbody>\n",
              "</table>\n",
              "</div>"
            ],
            "text/plain": [
              "   user_id                                               pred\n",
              "0        1  [995242, 1029743, 1082185, 9655212, 1049998, 1...\n",
              "1        7                                          [1082185]\n",
              "2        8                                          [1082185]\n",
              "3       13  [995242, 5978656, 1029743, 5978648, 1082185, 1...\n",
              "4       16                                 [1082185, 1313189]"
            ]
          },
          "metadata": {
            "tags": []
          },
          "execution_count": 234
        }
      ]
    },
    {
      "cell_type": "code",
      "metadata": {
        "colab": {
          "base_uri": "https://localhost:8080/",
          "height": 204
        },
        "id": "n2kad1r_Pj7Z",
        "outputId": "56dc4b52-6de0-4f21-9a4f-d057dccab9f4"
      },
      "source": [
        "result_lvl_2 = result_lvl_2.merge(pred_lvl_2, on='user_id', how='left')\n",
        "result_lvl_2.head()"
      ],
      "execution_count": 235,
      "outputs": [
        {
          "output_type": "execute_result",
          "data": {
            "text/html": [
              "<div>\n",
              "<style scoped>\n",
              "    .dataframe tbody tr th:only-of-type {\n",
              "        vertical-align: middle;\n",
              "    }\n",
              "\n",
              "    .dataframe tbody tr th {\n",
              "        vertical-align: top;\n",
              "    }\n",
              "\n",
              "    .dataframe thead th {\n",
              "        text-align: right;\n",
              "    }\n",
              "</style>\n",
              "<table border=\"1\" class=\"dataframe\">\n",
              "  <thead>\n",
              "    <tr style=\"text-align: right;\">\n",
              "      <th></th>\n",
              "      <th>user_id</th>\n",
              "      <th>actual</th>\n",
              "      <th>pred</th>\n",
              "    </tr>\n",
              "  </thead>\n",
              "  <tbody>\n",
              "    <tr>\n",
              "      <th>0</th>\n",
              "      <td>1</td>\n",
              "      <td>[999999, 856942, 865456, 889248, 907957, 91419...</td>\n",
              "      <td>[995242, 1029743, 1082185, 9655212, 1049998, 1...</td>\n",
              "    </tr>\n",
              "    <tr>\n",
              "      <th>1</th>\n",
              "      <td>3</td>\n",
              "      <td>[835476, 999999, 872021, 909638, 920626, 95815...</td>\n",
              "      <td>NaN</td>\n",
              "    </tr>\n",
              "    <tr>\n",
              "      <th>2</th>\n",
              "      <td>6</td>\n",
              "      <td>[999999, 946489, 1006718, 1104227, 1108624, 11...</td>\n",
              "      <td>NaN</td>\n",
              "    </tr>\n",
              "    <tr>\n",
              "      <th>3</th>\n",
              "      <td>7</td>\n",
              "      <td>[840386, 999999, 898068, 909714, 993838, 10031...</td>\n",
              "      <td>[1082185]</td>\n",
              "    </tr>\n",
              "    <tr>\n",
              "      <th>4</th>\n",
              "      <td>8</td>\n",
              "      <td>[835098, 872137, 910439, 924610, 992977, 99999...</td>\n",
              "      <td>[1082185]</td>\n",
              "    </tr>\n",
              "  </tbody>\n",
              "</table>\n",
              "</div>"
            ],
            "text/plain": [
              "   user_id  ...                                               pred\n",
              "0        1  ...  [995242, 1029743, 1082185, 9655212, 1049998, 1...\n",
              "1        3  ...                                                NaN\n",
              "2        6  ...                                                NaN\n",
              "3        7  ...                                          [1082185]\n",
              "4        8  ...                                          [1082185]\n",
              "\n",
              "[5 rows x 3 columns]"
            ]
          },
          "metadata": {
            "tags": []
          },
          "execution_count": 235
        }
      ]
    },
    {
      "cell_type": "code",
      "metadata": {
        "colab": {
          "base_uri": "https://localhost:8080/"
        },
        "id": "eu23gkYuQZPH",
        "outputId": "3878858a-56c4-4206-cef2-23fa10bf83e7"
      },
      "source": [
        "user_pred_nan = result_lvl_2.loc[result_lvl_2[\"pred\"] != result_lvl_2[\"pred\"], 'user_id'].values\n",
        "len(user_pred_nan)"
      ],
      "execution_count": 236,
      "outputs": [
        {
          "output_type": "execute_result",
          "data": {
            "text/plain": [
              "1384"
            ]
          },
          "metadata": {
            "tags": []
          },
          "execution_count": 236
        }
      ]
    },
    {
      "cell_type": "code",
      "metadata": {
        "colab": {
          "base_uri": "https://localhost:8080/"
        },
        "id": "kR5JW7OrVcsX",
        "outputId": "52a36bc3-95e2-48e1-c97b-fd75959015f6"
      },
      "source": [
        "set_tr_1 = set(data_train_lvl_1.user_id.unique())\n",
        "len(set_tr_1)"
      ],
      "execution_count": 237,
      "outputs": [
        {
          "output_type": "execute_result",
          "data": {
            "text/plain": [
              "2498"
            ]
          },
          "metadata": {
            "tags": []
          },
          "execution_count": 237
        }
      ]
    },
    {
      "cell_type": "code",
      "metadata": {
        "colab": {
          "base_uri": "https://localhost:8080/"
        },
        "id": "3BjbFAbRWZaI",
        "outputId": "aa0bea6a-a643-4484-e0b0-67f9d251f118"
      },
      "source": [
        "user_list = set(user_pred_nan).intersection(set_tr_1)\n",
        "len(user_list)"
      ],
      "execution_count": 238,
      "outputs": [
        {
          "output_type": "execute_result",
          "data": {
            "text/plain": [
              "1383"
            ]
          },
          "metadata": {
            "tags": []
          },
          "execution_count": 238
        }
      ]
    },
    {
      "cell_type": "code",
      "metadata": {
        "colab": {
          "base_uri": "https://localhost:8080/",
          "height": 204
        },
        "id": "oMtZDaV3NW6a",
        "outputId": "baf66496-98f4-435a-9dce-2f429e191bb3"
      },
      "source": [
        "result_lvl_2.loc[result_lvl_2[\"user_id\"].isin(user_list), \"pred\"] =\\\n",
        "result_lvl_2.loc[result_lvl_2[\"user_id\"].isin(user_list), \"user_id\"].apply(lambda x: recommender.get_als_recommendations(x, rec_num=k_n))\n",
        "result_lvl_2.head()"
      ],
      "execution_count": 239,
      "outputs": [
        {
          "output_type": "execute_result",
          "data": {
            "text/html": [
              "<div>\n",
              "<style scoped>\n",
              "    .dataframe tbody tr th:only-of-type {\n",
              "        vertical-align: middle;\n",
              "    }\n",
              "\n",
              "    .dataframe tbody tr th {\n",
              "        vertical-align: top;\n",
              "    }\n",
              "\n",
              "    .dataframe thead th {\n",
              "        text-align: right;\n",
              "    }\n",
              "</style>\n",
              "<table border=\"1\" class=\"dataframe\">\n",
              "  <thead>\n",
              "    <tr style=\"text-align: right;\">\n",
              "      <th></th>\n",
              "      <th>user_id</th>\n",
              "      <th>actual</th>\n",
              "      <th>pred</th>\n",
              "    </tr>\n",
              "  </thead>\n",
              "  <tbody>\n",
              "    <tr>\n",
              "      <th>0</th>\n",
              "      <td>1</td>\n",
              "      <td>[999999, 856942, 865456, 889248, 907957, 91419...</td>\n",
              "      <td>[995242, 1029743, 1082185, 9655212, 1049998, 1...</td>\n",
              "    </tr>\n",
              "    <tr>\n",
              "      <th>1</th>\n",
              "      <td>3</td>\n",
              "      <td>[835476, 999999, 872021, 909638, 920626, 95815...</td>\n",
              "      <td>[1092026, 951590, 1053690, 1106523, 5568378]</td>\n",
              "    </tr>\n",
              "    <tr>\n",
              "      <th>2</th>\n",
              "      <td>6</td>\n",
              "      <td>[999999, 946489, 1006718, 1104227, 1108624, 11...</td>\n",
              "      <td>[878996, 866211, 1127831, 923746, 1023720]</td>\n",
              "    </tr>\n",
              "    <tr>\n",
              "      <th>3</th>\n",
              "      <td>7</td>\n",
              "      <td>[840386, 999999, 898068, 909714, 993838, 10031...</td>\n",
              "      <td>[1082185]</td>\n",
              "    </tr>\n",
              "    <tr>\n",
              "      <th>4</th>\n",
              "      <td>8</td>\n",
              "      <td>[835098, 872137, 910439, 924610, 992977, 99999...</td>\n",
              "      <td>[1082185]</td>\n",
              "    </tr>\n",
              "  </tbody>\n",
              "</table>\n",
              "</div>"
            ],
            "text/plain": [
              "   user_id  ...                                               pred\n",
              "0        1  ...  [995242, 1029743, 1082185, 9655212, 1049998, 1...\n",
              "1        3  ...       [1092026, 951590, 1053690, 1106523, 5568378]\n",
              "2        6  ...         [878996, 866211, 1127831, 923746, 1023720]\n",
              "3        7  ...                                          [1082185]\n",
              "4        8  ...                                          [1082185]\n",
              "\n",
              "[5 rows x 3 columns]"
            ]
          },
          "metadata": {
            "tags": []
          },
          "execution_count": 239
        }
      ]
    },
    {
      "cell_type": "code",
      "metadata": {
        "colab": {
          "base_uri": "https://localhost:8080/",
          "height": 80
        },
        "id": "4V_jWiDhZgl6",
        "outputId": "9f6a0145-fa87-4189-a69a-81e3c61ae5af"
      },
      "source": [
        "result_lvl_2.loc[result_lvl_2[\"user_id\"] == 1984]"
      ],
      "execution_count": 240,
      "outputs": [
        {
          "output_type": "execute_result",
          "data": {
            "text/html": [
              "<div>\n",
              "<style scoped>\n",
              "    .dataframe tbody tr th:only-of-type {\n",
              "        vertical-align: middle;\n",
              "    }\n",
              "\n",
              "    .dataframe tbody tr th {\n",
              "        vertical-align: top;\n",
              "    }\n",
              "\n",
              "    .dataframe thead th {\n",
              "        text-align: right;\n",
              "    }\n",
              "</style>\n",
              "<table border=\"1\" class=\"dataframe\">\n",
              "  <thead>\n",
              "    <tr style=\"text-align: right;\">\n",
              "      <th></th>\n",
              "      <th>user_id</th>\n",
              "      <th>actual</th>\n",
              "      <th>pred</th>\n",
              "    </tr>\n",
              "  </thead>\n",
              "  <tbody>\n",
              "    <tr>\n",
              "      <th>1622</th>\n",
              "      <td>1984</td>\n",
              "      <td>[999999, 847344, 859237, 1064380, 1074516, 122...</td>\n",
              "      <td>NaN</td>\n",
              "    </tr>\n",
              "  </tbody>\n",
              "</table>\n",
              "</div>"
            ],
            "text/plain": [
              "      user_id                                             actual pred\n",
              "1622     1984  [999999, 847344, 859237, 1064380, 1074516, 122...  NaN"
            ]
          },
          "metadata": {
            "tags": []
          },
          "execution_count": 240
        }
      ]
    },
    {
      "cell_type": "code",
      "metadata": {
        "colab": {
          "base_uri": "https://localhost:8080/"
        },
        "id": "THbgNB_lUfgL",
        "outputId": "62caeede-e686-40dc-f6dd-23bf214dece5"
      },
      "source": [
        "popularity = recommender.prep_data.groupby('item_id')['quantity'].sum().reset_index()\n",
        "popularity.rename(columns={'quantity': 'n_sold'}, inplace=True)\n",
        "top_5 = popularity.sort_values('n_sold', ascending=False).head(6).item_id.tolist()[1:6]\n",
        "top_5"
      ],
      "execution_count": 241,
      "outputs": [
        {
          "output_type": "execute_result",
          "data": {
            "text/plain": [
              "[1082185, 995242, 1029743, 1133018, 981760]"
            ]
          },
          "metadata": {
            "tags": []
          },
          "execution_count": 241
        }
      ]
    },
    {
      "cell_type": "code",
      "metadata": {
        "id": "8lmhr2yDZuCd"
      },
      "source": [
        "result_lvl_2.loc[result_lvl_2[\"user_id\"] == 1984, \"pred\"] =\\\n",
        "        result_lvl_2.loc[result_lvl_2[\"user_id\"] == 1984, \"user_id\"].apply(lambda x: top_5)"
      ],
      "execution_count": 242,
      "outputs": []
    },
    {
      "cell_type": "code",
      "metadata": {
        "colab": {
          "base_uri": "https://localhost:8080/",
          "height": 80
        },
        "id": "lA55YhlQZoUR",
        "outputId": "f036e0fc-e8b5-407a-d2a3-1b907c91cc25"
      },
      "source": [
        "result_lvl_2.loc[result_lvl_2[\"user_id\"] == 1984]"
      ],
      "execution_count": 243,
      "outputs": [
        {
          "output_type": "execute_result",
          "data": {
            "text/html": [
              "<div>\n",
              "<style scoped>\n",
              "    .dataframe tbody tr th:only-of-type {\n",
              "        vertical-align: middle;\n",
              "    }\n",
              "\n",
              "    .dataframe tbody tr th {\n",
              "        vertical-align: top;\n",
              "    }\n",
              "\n",
              "    .dataframe thead th {\n",
              "        text-align: right;\n",
              "    }\n",
              "</style>\n",
              "<table border=\"1\" class=\"dataframe\">\n",
              "  <thead>\n",
              "    <tr style=\"text-align: right;\">\n",
              "      <th></th>\n",
              "      <th>user_id</th>\n",
              "      <th>actual</th>\n",
              "      <th>pred</th>\n",
              "    </tr>\n",
              "  </thead>\n",
              "  <tbody>\n",
              "    <tr>\n",
              "      <th>1622</th>\n",
              "      <td>1984</td>\n",
              "      <td>[999999, 847344, 859237, 1064380, 1074516, 122...</td>\n",
              "      <td>[1082185, 995242, 1029743, 1133018, 981760]</td>\n",
              "    </tr>\n",
              "  </tbody>\n",
              "</table>\n",
              "</div>"
            ],
            "text/plain": [
              "      user_id  ...                                         pred\n",
              "1622     1984  ...  [1082185, 995242, 1029743, 1133018, 981760]\n",
              "\n",
              "[1 rows x 3 columns]"
            ]
          },
          "metadata": {
            "tags": []
          },
          "execution_count": 243
        }
      ]
    },
    {
      "cell_type": "code",
      "metadata": {
        "colab": {
          "base_uri": "https://localhost:8080/"
        },
        "id": "EfAA2mUsgibJ",
        "outputId": "fc6f9dd3-2d43-41b0-ebf9-54660b709c08"
      },
      "source": [
        "len(result_lvl_2.loc[result_lvl_2[\"user_id\"] == 1984, \"pred\"].values[0])"
      ],
      "execution_count": 244,
      "outputs": [
        {
          "output_type": "execute_result",
          "data": {
            "text/plain": [
              "5"
            ]
          },
          "metadata": {
            "tags": []
          },
          "execution_count": 244
        }
      ]
    },
    {
      "cell_type": "code",
      "metadata": {
        "colab": {
          "base_uri": "https://localhost:8080/"
        },
        "id": "9obJg_0JhSxa",
        "outputId": "c4d6ac96-d710-4fb9-8b51-4392490a05f7"
      },
      "source": [
        "res = []\n",
        "res.extend(result_lvl_2.loc[result_lvl_2[\"user_id\"] == 1984, \"pred\"].values[0])\n",
        "res"
      ],
      "execution_count": 245,
      "outputs": [
        {
          "output_type": "execute_result",
          "data": {
            "text/plain": [
              "[1082185, 995242, 1029743, 1133018, 981760]"
            ]
          },
          "metadata": {
            "tags": []
          },
          "execution_count": 245
        }
      ]
    },
    {
      "cell_type": "code",
      "metadata": {
        "id": "ucE8FN7RPv5j"
      },
      "source": [
        "def fill_if_not_5(recommender, x):\n",
        "    res = []\n",
        "    res.extend(result_lvl_2.loc[result_lvl_2[\"user_id\"] == x, \"pred\"].values[0])\n",
        "    pred_num = len(result_lvl_2.loc[result_lvl_2[\"user_id\"] == x, \"pred\"].values[0])\n",
        "    if pred_num < 5:\n",
        "        res.extend(recommender.get_als_recommendations(x, rec_num=5-pred_num))\n",
        "    return res"
      ],
      "execution_count": 246,
      "outputs": []
    },
    {
      "cell_type": "code",
      "metadata": {
        "id": "LMnQRXnSQKO-"
      },
      "source": [
        "# result_lvl_2[\"pred\"] = result_lvl_2[\"user_id\"].apply(lambda x: fill_if_not_5(recommender, x))\n",
        "\n",
        "# result_lvl_2.head()"
      ],
      "execution_count": 249,
      "outputs": []
    },
    {
      "cell_type": "code",
      "metadata": {
        "colab": {
          "base_uri": "https://localhost:8080/"
        },
        "id": "YtuN3BpYQ-77",
        "outputId": "1349f226-0d3a-463b-ea7e-4b443453c052"
      },
      "source": [
        "result_lvl_2[\"rec\"] = result_lvl_2['user_id'].apply(\\\n",
        "        lambda x: precision_at_k(result_lvl_2.loc[result_lvl_2[\"user_id\"] == x, \"pred\"].values[0], \n",
        "                                 list(result_lvl_2.loc[result_lvl_2[\"user_id\"] == x, \"actual\"].values[0]), \n",
        "                                 k=5))\n",
        "\n",
        "result_lvl_2['rec'].mean()"
      ],
      "execution_count": 248,
      "outputs": [
        {
          "output_type": "execute_result",
          "data": {
            "text/plain": [
              "0.2761426705843928"
            ]
          },
          "metadata": {
            "tags": []
          },
          "execution_count": 248
        }
      ]
    },
    {
      "cell_type": "markdown",
      "metadata": {
        "id": "bOxuYPkkVzfD"
      },
      "source": [
        "### LightGBM Ranker"
      ]
    },
    {
      "cell_type": "code",
      "metadata": {
        "colab": {
          "base_uri": "https://localhost:8080/"
        },
        "id": "xEBN3YCFQQO7",
        "outputId": "360f22a6-b415-4686-8be5-ec9db82b0135"
      },
      "source": [
        "X_train.shape"
      ],
      "execution_count": 118,
      "outputs": [
        {
          "output_type": "execute_result",
          "data": {
            "text/plain": [
              "(444800, 18)"
            ]
          },
          "metadata": {
            "tags": []
          },
          "execution_count": 118
        }
      ]
    },
    {
      "cell_type": "code",
      "metadata": {
        "id": "wJNpRwTgV865"
      },
      "source": [
        "X_train['num'] = np.arange(len(X_train))"
      ],
      "execution_count": 119,
      "outputs": []
    },
    {
      "cell_type": "code",
      "metadata": {
        "id": "7so_yZc9V_sY"
      },
      "source": [
        "gr = X_train[['user_id', 'num']].groupby('user_id', sort=False).max()['num'].values"
      ],
      "execution_count": 120,
      "outputs": []
    },
    {
      "cell_type": "code",
      "metadata": {
        "id": "979UoC6-WCBv"
      },
      "source": [
        "grs = np.concatenate((np.array([gr[0]+1]), gr[1:] - gr[:-1]))"
      ],
      "execution_count": 121,
      "outputs": []
    },
    {
      "cell_type": "code",
      "metadata": {
        "colab": {
          "base_uri": "https://localhost:8080/"
        },
        "id": "z2bGE7j4WFRy",
        "outputId": "18e7520a-74b3-4c16-fe8f-9cff7bc2dd1b"
      },
      "source": [
        "X_train.shape, y_train.shape, np.sum(grs)"
      ],
      "execution_count": 122,
      "outputs": [
        {
          "output_type": "execute_result",
          "data": {
            "text/plain": [
              "((444800, 19), (444800, 1), 444800)"
            ]
          },
          "metadata": {
            "tags": []
          },
          "execution_count": 122
        }
      ]
    },
    {
      "cell_type": "code",
      "metadata": {
        "id": "HC9C5jilWHwS"
      },
      "source": [
        "from lightgbm import LGBMRanker\n",
        "\n",
        "lgb_params = { \n",
        "    'objective':'lambdarank',\n",
        "    'boosting_type': 'gbdt',\n",
        "    'n_estimators': 1000,\n",
        "    'learning_rate': 0.08,\n",
        "    'max_depth': 5,\n",
        "    'categorical_column': cat_feats,\n",
        "    'random_state': 27,\n",
        "    'verbose': 0,\n",
        "    'is_unbalance': True\n",
        "}"
      ],
      "execution_count": 123,
      "outputs": []
    },
    {
      "cell_type": "code",
      "metadata": {
        "id": "ajcWHhI2WLuG"
      },
      "source": [
        "lgb_rn = LGBMRanker(**lgb_params, silent=False)\n",
        "\n",
        "eval_h = lgb_rn.fit(X_train, y_train, group=grs,\n",
        "                    eval_set=[(X_train, y_train)], eval_group=[grs], \n",
        "                    eval_metric=['ndcg'],\n",
        "                    eval_at=[5, 10 ], \n",
        "                    early_stopping_rounds=50, \n",
        "                    verbose=0)"
      ],
      "execution_count": 124,
      "outputs": []
    },
    {
      "cell_type": "code",
      "metadata": {
        "colab": {
          "base_uri": "https://localhost:8080/"
        },
        "id": "RoUtFCdfWO5Y",
        "outputId": "36aa75e9-c66c-45ea-abec-f673cfd98ec4"
      },
      "source": [
        "eval_h.evals_result_['training']['ndcg@5'][:3], eval_h.evals_result_['training']['ndcg@5'][-3:]"
      ],
      "execution_count": 125,
      "outputs": [
        {
          "output_type": "execute_result",
          "data": {
            "text/plain": [
              "([0.4831570404401664, 0.4831570404401664, 0.47107170366830964],\n",
              " [0.4840221018323034, 0.48397635794464283, 0.48397635794464283])"
            ]
          },
          "metadata": {
            "tags": []
          },
          "execution_count": 125
        }
      ]
    },
    {
      "cell_type": "code",
      "metadata": {
        "id": "Qs_qO5uLWWgi"
      },
      "source": [
        "rank_preds = lgb_rn.predict(X_train)"
      ],
      "execution_count": 126,
      "outputs": []
    },
    {
      "cell_type": "code",
      "metadata": {
        "colab": {
          "base_uri": "https://localhost:8080/",
          "height": 204
        },
        "id": "QdhoXldLWdCR",
        "outputId": "4b2c059e-2df5-4da7-e583-304be5072e06"
      },
      "source": [
        "ranker_prediction = X_train[['user_id', 'item_id']]\n",
        "ranker_prediction[\"pred\"] = rank_preds\n",
        "ranker_prediction.head()"
      ],
      "execution_count": 127,
      "outputs": [
        {
          "output_type": "execute_result",
          "data": {
            "text/html": [
              "<div>\n",
              "<style scoped>\n",
              "    .dataframe tbody tr th:only-of-type {\n",
              "        vertical-align: middle;\n",
              "    }\n",
              "\n",
              "    .dataframe tbody tr th {\n",
              "        vertical-align: top;\n",
              "    }\n",
              "\n",
              "    .dataframe thead th {\n",
              "        text-align: right;\n",
              "    }\n",
              "</style>\n",
              "<table border=\"1\" class=\"dataframe\">\n",
              "  <thead>\n",
              "    <tr style=\"text-align: right;\">\n",
              "      <th></th>\n",
              "      <th>user_id</th>\n",
              "      <th>item_id</th>\n",
              "      <th>pred</th>\n",
              "    </tr>\n",
              "  </thead>\n",
              "  <tbody>\n",
              "    <tr>\n",
              "      <th>0</th>\n",
              "      <td>2070</td>\n",
              "      <td>1107553</td>\n",
              "      <td>0.000060</td>\n",
              "    </tr>\n",
              "    <tr>\n",
              "      <th>1</th>\n",
              "      <td>2070</td>\n",
              "      <td>5569471</td>\n",
              "      <td>-0.004316</td>\n",
              "    </tr>\n",
              "    <tr>\n",
              "      <th>2</th>\n",
              "      <td>2070</td>\n",
              "      <td>833025</td>\n",
              "      <td>-0.019442</td>\n",
              "    </tr>\n",
              "    <tr>\n",
              "      <th>3</th>\n",
              "      <td>2070</td>\n",
              "      <td>1096036</td>\n",
              "      <td>-0.004316</td>\n",
              "    </tr>\n",
              "    <tr>\n",
              "      <th>4</th>\n",
              "      <td>2070</td>\n",
              "      <td>1029743</td>\n",
              "      <td>0.034782</td>\n",
              "    </tr>\n",
              "  </tbody>\n",
              "</table>\n",
              "</div>"
            ],
            "text/plain": [
              "   user_id  item_id      pred\n",
              "0     2070  1107553  0.000060\n",
              "1     2070  5569471 -0.004316\n",
              "2     2070   833025 -0.019442\n",
              "3     2070  1096036 -0.004316\n",
              "4     2070  1029743  0.034782"
            ]
          },
          "metadata": {
            "tags": []
          },
          "execution_count": 127
        }
      ]
    },
    {
      "cell_type": "code",
      "metadata": {
        "id": "JGKscHJvWhMM"
      },
      "source": [
        "ranker_prediction = ranker_prediction.drop_duplicates()"
      ],
      "execution_count": 128,
      "outputs": []
    },
    {
      "cell_type": "code",
      "metadata": {
        "colab": {
          "base_uri": "https://localhost:8080/",
          "height": 204
        },
        "id": "lrl3NUsNWj5Z",
        "outputId": "92c56aa5-9e9f-4884-d0b3-5b65bdc1b494"
      },
      "source": [
        "ranker_prediction.sort_values(by=\"pred\", inplace=True, ascending=False)\n",
        "ranker_prediction.head()"
      ],
      "execution_count": 129,
      "outputs": [
        {
          "output_type": "execute_result",
          "data": {
            "text/html": [
              "<div>\n",
              "<style scoped>\n",
              "    .dataframe tbody tr th:only-of-type {\n",
              "        vertical-align: middle;\n",
              "    }\n",
              "\n",
              "    .dataframe tbody tr th {\n",
              "        vertical-align: top;\n",
              "    }\n",
              "\n",
              "    .dataframe thead th {\n",
              "        text-align: right;\n",
              "    }\n",
              "</style>\n",
              "<table border=\"1\" class=\"dataframe\">\n",
              "  <thead>\n",
              "    <tr style=\"text-align: right;\">\n",
              "      <th></th>\n",
              "      <th>user_id</th>\n",
              "      <th>item_id</th>\n",
              "      <th>pred</th>\n",
              "    </tr>\n",
              "  </thead>\n",
              "  <tbody>\n",
              "    <tr>\n",
              "      <th>226051</th>\n",
              "      <td>1225</td>\n",
              "      <td>1082185</td>\n",
              "      <td>0.034782</td>\n",
              "    </tr>\n",
              "    <tr>\n",
              "      <th>52637</th>\n",
              "      <td>628</td>\n",
              "      <td>1126899</td>\n",
              "      <td>0.034782</td>\n",
              "    </tr>\n",
              "    <tr>\n",
              "      <th>52618</th>\n",
              "      <td>628</td>\n",
              "      <td>1070820</td>\n",
              "      <td>0.034782</td>\n",
              "    </tr>\n",
              "    <tr>\n",
              "      <th>258549</th>\n",
              "      <td>1057</td>\n",
              "      <td>1082185</td>\n",
              "      <td>0.034782</td>\n",
              "    </tr>\n",
              "    <tr>\n",
              "      <th>412162</th>\n",
              "      <td>1772</td>\n",
              "      <td>1029743</td>\n",
              "      <td>0.034782</td>\n",
              "    </tr>\n",
              "  </tbody>\n",
              "</table>\n",
              "</div>"
            ],
            "text/plain": [
              "        user_id  item_id      pred\n",
              "226051     1225  1082185  0.034782\n",
              "52637       628  1126899  0.034782\n",
              "52618       628  1070820  0.034782\n",
              "258549     1057  1082185  0.034782\n",
              "412162     1772  1029743  0.034782"
            ]
          },
          "metadata": {
            "tags": []
          },
          "execution_count": 129
        }
      ]
    },
    {
      "cell_type": "code",
      "metadata": {
        "colab": {
          "base_uri": "https://localhost:8080/",
          "height": 419
        },
        "id": "tg2MFDaeWmbM",
        "outputId": "068bd809-ce6d-4036-fd5a-add953257c7b"
      },
      "source": [
        "ranked_res = ranker_prediction.groupby('user_id')['item_id'].unique().reset_index()   \n",
        "ranked_res"
      ],
      "execution_count": 130,
      "outputs": [
        {
          "output_type": "execute_result",
          "data": {
            "text/html": [
              "<div>\n",
              "<style scoped>\n",
              "    .dataframe tbody tr th:only-of-type {\n",
              "        vertical-align: middle;\n",
              "    }\n",
              "\n",
              "    .dataframe tbody tr th {\n",
              "        vertical-align: top;\n",
              "    }\n",
              "\n",
              "    .dataframe thead th {\n",
              "        text-align: right;\n",
              "    }\n",
              "</style>\n",
              "<table border=\"1\" class=\"dataframe\">\n",
              "  <thead>\n",
              "    <tr style=\"text-align: right;\">\n",
              "      <th></th>\n",
              "      <th>user_id</th>\n",
              "      <th>item_id</th>\n",
              "    </tr>\n",
              "  </thead>\n",
              "  <tbody>\n",
              "    <tr>\n",
              "      <th>0</th>\n",
              "      <td>1</td>\n",
              "      <td>[1029743, 1082185, 1070820, 995242, 981760, 86...</td>\n",
              "    </tr>\n",
              "    <tr>\n",
              "      <th>1</th>\n",
              "      <td>2</td>\n",
              "      <td>[1106523, 1082185, 1029743, 1133018, 995242, 9...</td>\n",
              "    </tr>\n",
              "    <tr>\n",
              "      <th>2</th>\n",
              "      <td>4</td>\n",
              "      <td>[1082185, 1029743, 1106523, 1126899, 1058997, ...</td>\n",
              "    </tr>\n",
              "    <tr>\n",
              "      <th>3</th>\n",
              "      <td>6</td>\n",
              "      <td>[1070820, 1106523, 1029743, 1082185, 995242, 1...</td>\n",
              "    </tr>\n",
              "    <tr>\n",
              "      <th>4</th>\n",
              "      <td>7</td>\n",
              "      <td>[1126899, 1082185, 1106523, 1029743, 1058997, ...</td>\n",
              "    </tr>\n",
              "    <tr>\n",
              "      <th>...</th>\n",
              "      <td>...</td>\n",
              "      <td>...</td>\n",
              "    </tr>\n",
              "    <tr>\n",
              "      <th>2149</th>\n",
              "      <td>2496</td>\n",
              "      <td>[1106523, 1082185, 1133018, 981760, 5978648, 8...</td>\n",
              "    </tr>\n",
              "    <tr>\n",
              "      <th>2150</th>\n",
              "      <td>2497</td>\n",
              "      <td>[1070820, 1082185, 1029743, 995242, 981760, 98...</td>\n",
              "    </tr>\n",
              "    <tr>\n",
              "      <th>2151</th>\n",
              "      <td>2498</td>\n",
              "      <td>[1082185, 1029743, 1126899, 1070820, 995242, 1...</td>\n",
              "    </tr>\n",
              "    <tr>\n",
              "      <th>2152</th>\n",
              "      <td>2499</td>\n",
              "      <td>[1106523, 1082185, 1070820, 1133018, 981760, 8...</td>\n",
              "    </tr>\n",
              "    <tr>\n",
              "      <th>2153</th>\n",
              "      <td>2500</td>\n",
              "      <td>[1082185, 1106523, 1029743, 1126899, 1133018, ...</td>\n",
              "    </tr>\n",
              "  </tbody>\n",
              "</table>\n",
              "<p>2154 rows × 2 columns</p>\n",
              "</div>"
            ],
            "text/plain": [
              "      user_id                                            item_id\n",
              "0           1  [1029743, 1082185, 1070820, 995242, 981760, 86...\n",
              "1           2  [1106523, 1082185, 1029743, 1133018, 995242, 9...\n",
              "2           4  [1082185, 1029743, 1106523, 1126899, 1058997, ...\n",
              "3           6  [1070820, 1106523, 1029743, 1082185, 995242, 1...\n",
              "4           7  [1126899, 1082185, 1106523, 1029743, 1058997, ...\n",
              "...       ...                                                ...\n",
              "2149     2496  [1106523, 1082185, 1133018, 981760, 5978648, 8...\n",
              "2150     2497  [1070820, 1082185, 1029743, 995242, 981760, 98...\n",
              "2151     2498  [1082185, 1029743, 1126899, 1070820, 995242, 1...\n",
              "2152     2499  [1106523, 1082185, 1070820, 1133018, 981760, 8...\n",
              "2153     2500  [1082185, 1106523, 1029743, 1126899, 1133018, ...\n",
              "\n",
              "[2154 rows x 2 columns]"
            ]
          },
          "metadata": {
            "tags": []
          },
          "execution_count": 130
        }
      ]
    },
    {
      "cell_type": "code",
      "metadata": {
        "id": "gcCEoejKW1Mq",
        "colab": {
          "base_uri": "https://localhost:8080/",
          "height": 419
        },
        "outputId": "149981a6-c0d1-4562-8d28-4d06dffa6e92"
      },
      "source": [
        "result_lvl_2 = data_val_lvl_2.groupby('user_id')['item_id'].unique().reset_index()\n",
        "result_lvl_2.columns=['user_id', 'actual']\n",
        "\n",
        "result_lvl_2 = result_lvl_2.merge(ranked_res, on='user_id', how='left')\n",
        "result_lvl_2"
      ],
      "execution_count": 133,
      "outputs": [
        {
          "output_type": "execute_result",
          "data": {
            "text/html": [
              "<div>\n",
              "<style scoped>\n",
              "    .dataframe tbody tr th:only-of-type {\n",
              "        vertical-align: middle;\n",
              "    }\n",
              "\n",
              "    .dataframe tbody tr th {\n",
              "        vertical-align: top;\n",
              "    }\n",
              "\n",
              "    .dataframe thead th {\n",
              "        text-align: right;\n",
              "    }\n",
              "</style>\n",
              "<table border=\"1\" class=\"dataframe\">\n",
              "  <thead>\n",
              "    <tr style=\"text-align: right;\">\n",
              "      <th></th>\n",
              "      <th>user_id</th>\n",
              "      <th>actual</th>\n",
              "      <th>item_id</th>\n",
              "    </tr>\n",
              "  </thead>\n",
              "  <tbody>\n",
              "    <tr>\n",
              "      <th>0</th>\n",
              "      <td>1</td>\n",
              "      <td>[999999, 856942, 865456, 889248, 907957, 91419...</td>\n",
              "      <td>[1029743, 1082185, 1070820, 995242, 981760, 86...</td>\n",
              "    </tr>\n",
              "    <tr>\n",
              "      <th>1</th>\n",
              "      <td>3</td>\n",
              "      <td>[835476, 999999, 872021, 909638, 920626, 95815...</td>\n",
              "      <td>NaN</td>\n",
              "    </tr>\n",
              "    <tr>\n",
              "      <th>2</th>\n",
              "      <td>6</td>\n",
              "      <td>[999999, 946489, 1006718, 1104227, 1108624, 11...</td>\n",
              "      <td>[1070820, 1106523, 1029743, 1082185, 995242, 1...</td>\n",
              "    </tr>\n",
              "    <tr>\n",
              "      <th>3</th>\n",
              "      <td>7</td>\n",
              "      <td>[840386, 999999, 898068, 909714, 993838, 10031...</td>\n",
              "      <td>[1126899, 1082185, 1106523, 1029743, 1058997, ...</td>\n",
              "    </tr>\n",
              "    <tr>\n",
              "      <th>4</th>\n",
              "      <td>8</td>\n",
              "      <td>[835098, 872137, 910439, 924610, 992977, 99999...</td>\n",
              "      <td>[1029743, 1082185, 1070820, 1106523, 995242, 1...</td>\n",
              "    </tr>\n",
              "    <tr>\n",
              "      <th>...</th>\n",
              "      <td>...</td>\n",
              "      <td>...</td>\n",
              "      <td>...</td>\n",
              "    </tr>\n",
              "    <tr>\n",
              "      <th>2037</th>\n",
              "      <td>2496</td>\n",
              "      <td>[999999]</td>\n",
              "      <td>[1106523, 1082185, 1133018, 981760, 5978648, 8...</td>\n",
              "    </tr>\n",
              "    <tr>\n",
              "      <th>2038</th>\n",
              "      <td>2497</td>\n",
              "      <td>[1016709, 9835695, 999999, 845294, 871756, 873...</td>\n",
              "      <td>[1070820, 1082185, 1029743, 995242, 981760, 98...</td>\n",
              "    </tr>\n",
              "    <tr>\n",
              "      <th>2039</th>\n",
              "      <td>2498</td>\n",
              "      <td>[999999, 901776, 914190, 958382, 972437, 10398...</td>\n",
              "      <td>[1082185, 1029743, 1126899, 1070820, 995242, 1...</td>\n",
              "    </tr>\n",
              "    <tr>\n",
              "      <th>2040</th>\n",
              "      <td>2499</td>\n",
              "      <td>[867188, 877580, 902396, 914190, 951590, 95813...</td>\n",
              "      <td>[1106523, 1082185, 1070820, 1133018, 981760, 8...</td>\n",
              "    </tr>\n",
              "    <tr>\n",
              "      <th>2041</th>\n",
              "      <td>2500</td>\n",
              "      <td>[852182, 856345, 923746, 948670, 1018007, 1044...</td>\n",
              "      <td>[1082185, 1106523, 1029743, 1126899, 1133018, ...</td>\n",
              "    </tr>\n",
              "  </tbody>\n",
              "</table>\n",
              "<p>2042 rows × 3 columns</p>\n",
              "</div>"
            ],
            "text/plain": [
              "      user_id  ...                                            item_id\n",
              "0           1  ...  [1029743, 1082185, 1070820, 995242, 981760, 86...\n",
              "1           3  ...                                                NaN\n",
              "2           6  ...  [1070820, 1106523, 1029743, 1082185, 995242, 1...\n",
              "3           7  ...  [1126899, 1082185, 1106523, 1029743, 1058997, ...\n",
              "4           8  ...  [1029743, 1082185, 1070820, 1106523, 995242, 1...\n",
              "...       ...  ...                                                ...\n",
              "2037     2496  ...  [1106523, 1082185, 1133018, 981760, 5978648, 8...\n",
              "2038     2497  ...  [1070820, 1082185, 1029743, 995242, 981760, 98...\n",
              "2039     2498  ...  [1082185, 1029743, 1126899, 1070820, 995242, 1...\n",
              "2040     2499  ...  [1106523, 1082185, 1070820, 1133018, 981760, 8...\n",
              "2041     2500  ...  [1082185, 1106523, 1029743, 1126899, 1133018, ...\n",
              "\n",
              "[2042 rows x 3 columns]"
            ]
          },
          "metadata": {
            "tags": []
          },
          "execution_count": 133
        }
      ]
    },
    {
      "cell_type": "code",
      "metadata": {
        "colab": {
          "base_uri": "https://localhost:8080/"
        },
        "id": "pD4cfxzlzQKo",
        "outputId": "919ae3a6-3905-4253-de08-3348b600a7a0"
      },
      "source": [
        "user_pred_nan = result_lvl_2.loc[result_lvl_2[\"item_id\"] != result_lvl_2[\"item_id\"], 'user_id'].values\n",
        "len(user_pred_nan)"
      ],
      "execution_count": 134,
      "outputs": [
        {
          "output_type": "execute_result",
          "data": {
            "text/plain": [
              "126"
            ]
          },
          "metadata": {
            "tags": []
          },
          "execution_count": 134
        }
      ]
    },
    {
      "cell_type": "code",
      "metadata": {
        "colab": {
          "base_uri": "https://localhost:8080/"
        },
        "id": "fbWG14x7zkKM",
        "outputId": "7b71d4d2-90c9-4a7e-af6e-6d26efb65548"
      },
      "source": [
        "set_tr_1 = set(data_train_lvl_1.user_id.unique())\n",
        "len(set_tr_1)"
      ],
      "execution_count": 135,
      "outputs": [
        {
          "output_type": "execute_result",
          "data": {
            "text/plain": [
              "2498"
            ]
          },
          "metadata": {
            "tags": []
          },
          "execution_count": 135
        }
      ]
    },
    {
      "cell_type": "code",
      "metadata": {
        "colab": {
          "base_uri": "https://localhost:8080/"
        },
        "id": "lcCkah8izkkG",
        "outputId": "7574d149-4621-4cb7-ba1a-bb4d025b14fa"
      },
      "source": [
        "user_list = set(user_pred_nan).intersection(set_tr_1)\n",
        "len(user_list)"
      ],
      "execution_count": 136,
      "outputs": [
        {
          "output_type": "execute_result",
          "data": {
            "text/plain": [
              "126"
            ]
          },
          "metadata": {
            "tags": []
          },
          "execution_count": 136
        }
      ]
    },
    {
      "cell_type": "code",
      "metadata": {
        "colab": {
          "base_uri": "https://localhost:8080/",
          "height": 204
        },
        "id": "NjBGQa33wWuw",
        "outputId": "14474ce4-3f2f-481f-bdfc-213233a478bc"
      },
      "source": [
        "result_lvl_2.loc[result_lvl_2[\"user_id\"].isin(user_list), \"item_id\"] =\\\n",
        "result_lvl_2.loc[result_lvl_2[\"user_id\"].isin(user_list), \"user_id\"].apply(lambda x: recommender.get_als_recommendations(x, rec_num=k_n))\n",
        "result_lvl_2.head()"
      ],
      "execution_count": 137,
      "outputs": [
        {
          "output_type": "execute_result",
          "data": {
            "text/html": [
              "<div>\n",
              "<style scoped>\n",
              "    .dataframe tbody tr th:only-of-type {\n",
              "        vertical-align: middle;\n",
              "    }\n",
              "\n",
              "    .dataframe tbody tr th {\n",
              "        vertical-align: top;\n",
              "    }\n",
              "\n",
              "    .dataframe thead th {\n",
              "        text-align: right;\n",
              "    }\n",
              "</style>\n",
              "<table border=\"1\" class=\"dataframe\">\n",
              "  <thead>\n",
              "    <tr style=\"text-align: right;\">\n",
              "      <th></th>\n",
              "      <th>user_id</th>\n",
              "      <th>actual</th>\n",
              "      <th>item_id</th>\n",
              "    </tr>\n",
              "  </thead>\n",
              "  <tbody>\n",
              "    <tr>\n",
              "      <th>0</th>\n",
              "      <td>1</td>\n",
              "      <td>[999999, 856942, 865456, 889248, 907957, 91419...</td>\n",
              "      <td>[1029743, 1082185, 1070820, 995242, 981760, 86...</td>\n",
              "    </tr>\n",
              "    <tr>\n",
              "      <th>1</th>\n",
              "      <td>3</td>\n",
              "      <td>[835476, 999999, 872021, 909638, 920626, 95815...</td>\n",
              "      <td>[1092026, 951590, 1053690, 1106523, 5568378]</td>\n",
              "    </tr>\n",
              "    <tr>\n",
              "      <th>2</th>\n",
              "      <td>6</td>\n",
              "      <td>[999999, 946489, 1006718, 1104227, 1108624, 11...</td>\n",
              "      <td>[1070820, 1106523, 1029743, 1082185, 995242, 1...</td>\n",
              "    </tr>\n",
              "    <tr>\n",
              "      <th>3</th>\n",
              "      <td>7</td>\n",
              "      <td>[840386, 999999, 898068, 909714, 993838, 10031...</td>\n",
              "      <td>[1126899, 1082185, 1106523, 1029743, 1058997, ...</td>\n",
              "    </tr>\n",
              "    <tr>\n",
              "      <th>4</th>\n",
              "      <td>8</td>\n",
              "      <td>[835098, 872137, 910439, 924610, 992977, 99999...</td>\n",
              "      <td>[1029743, 1082185, 1070820, 1106523, 995242, 1...</td>\n",
              "    </tr>\n",
              "  </tbody>\n",
              "</table>\n",
              "</div>"
            ],
            "text/plain": [
              "   user_id  ...                                            item_id\n",
              "0        1  ...  [1029743, 1082185, 1070820, 995242, 981760, 86...\n",
              "1        3  ...       [1092026, 951590, 1053690, 1106523, 5568378]\n",
              "2        6  ...  [1070820, 1106523, 1029743, 1082185, 995242, 1...\n",
              "3        7  ...  [1126899, 1082185, 1106523, 1029743, 1058997, ...\n",
              "4        8  ...  [1029743, 1082185, 1070820, 1106523, 995242, 1...\n",
              "\n",
              "[5 rows x 3 columns]"
            ]
          },
          "metadata": {
            "tags": []
          },
          "execution_count": 137
        }
      ]
    },
    {
      "cell_type": "code",
      "metadata": {
        "colab": {
          "base_uri": "https://localhost:8080/",
          "height": 80
        },
        "id": "22bFIS_wyHvF",
        "outputId": "5331a836-2a30-483a-b701-9b365c332092"
      },
      "source": [
        "result_lvl_2.loc[result_lvl_2[\"user_id\"] == 1984]"
      ],
      "execution_count": 138,
      "outputs": [
        {
          "output_type": "execute_result",
          "data": {
            "text/html": [
              "<div>\n",
              "<style scoped>\n",
              "    .dataframe tbody tr th:only-of-type {\n",
              "        vertical-align: middle;\n",
              "    }\n",
              "\n",
              "    .dataframe tbody tr th {\n",
              "        vertical-align: top;\n",
              "    }\n",
              "\n",
              "    .dataframe thead th {\n",
              "        text-align: right;\n",
              "    }\n",
              "</style>\n",
              "<table border=\"1\" class=\"dataframe\">\n",
              "  <thead>\n",
              "    <tr style=\"text-align: right;\">\n",
              "      <th></th>\n",
              "      <th>user_id</th>\n",
              "      <th>actual</th>\n",
              "      <th>item_id</th>\n",
              "    </tr>\n",
              "  </thead>\n",
              "  <tbody>\n",
              "    <tr>\n",
              "      <th>1622</th>\n",
              "      <td>1984</td>\n",
              "      <td>[999999, 847344, 859237, 1064380, 1074516, 122...</td>\n",
              "      <td>[1070820, 1126899, 1106523, 1029743, 1082185, ...</td>\n",
              "    </tr>\n",
              "  </tbody>\n",
              "</table>\n",
              "</div>"
            ],
            "text/plain": [
              "      user_id  ...                                            item_id\n",
              "1622     1984  ...  [1070820, 1126899, 1106523, 1029743, 1082185, ...\n",
              "\n",
              "[1 rows x 3 columns]"
            ]
          },
          "metadata": {
            "tags": []
          },
          "execution_count": 138
        }
      ]
    },
    {
      "cell_type": "code",
      "metadata": {
        "colab": {
          "base_uri": "https://localhost:8080/"
        },
        "id": "6w_LSuSLwgkg",
        "outputId": "474757cd-079a-4b6b-f2e0-01ed371e6482"
      },
      "source": [
        "result_lvl_2[\"rec\"] = result_lvl_2['user_id'].apply(\\\n",
        "        lambda x: precision_at_k(result_lvl_2.loc[result_lvl_2[\"user_id\"] == x, \"item_id\"].values[0], \n",
        "                                 list(result_lvl_2.loc[result_lvl_2[\"user_id\"] == x, \"actual\"].values[0]), \n",
        "                                 k=5))\n",
        "\n",
        "result_lvl_2['rec'].mean()"
      ],
      "execution_count": 139,
      "outputs": [
        {
          "output_type": "execute_result",
          "data": {
            "text/plain": [
              "0.20979431929480583"
            ]
          },
          "metadata": {
            "tags": []
          },
          "execution_count": 139
        }
      ]
    },
    {
      "cell_type": "code",
      "metadata": {
        "id": "_xBZEdgo0J_n"
      },
      "source": [
        ""
      ],
      "execution_count": null,
      "outputs": []
    }
  ]
}